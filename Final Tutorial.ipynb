{
 "cells": [
  {
   "cell_type": "markdown",
   "metadata": {},
   "source": [
    "# Sources\n",
    "\n",
    "* HTML basics:\n",
    "    * https://developer.mozilla.org/en-US/docs/Learn/Getting_started_with_the_web/HTML_basics"
   ]
  },
  {
   "cell_type": "code",
   "execution_count": null,
   "metadata": {},
   "outputs": [],
   "source": [
    "from IPython.core.display import display, HTML\n",
    "display(HTML(\"<style>.container { width:95% !important; }</style>\"))"
   ]
  },
  {
   "cell_type": "markdown",
   "metadata": {},
   "source": [
    "# Overview"
   ]
  },
  {
   "cell_type": "markdown",
   "metadata": {},
   "source": [
    "## Introduction"
   ]
  },
  {
   "cell_type": "markdown",
   "metadata": {},
   "source": [
    "### Requirements"
   ]
  },
  {
   "cell_type": "markdown",
   "metadata": {},
   "source": [
    "### Motivation"
   ]
  },
  {
   "cell_type": "markdown",
   "metadata": {},
   "source": [
    "### Learning Objectives\n",
    "\n",
    "* Tools\n",
    "    * Pandas\n",
    "        * For Data storage\n",
    "        * Also for \"scraping\"\n",
    "    * Requests/BeautifulSoup4/LXML\n",
    "        * For scraping (DUH)"
   ]
  },
  {
   "cell_type": "markdown",
   "metadata": {},
   "source": [
    "# Land Acknowledgement"
   ]
  },
  {
   "cell_type": "markdown",
   "metadata": {},
   "source": [
    "# Ethics Of Web-Scraping"
   ]
  },
  {
   "cell_type": "markdown",
   "metadata": {},
   "source": [
    "* Am I allowed to access this data? \n",
    "    * https://www.chefknivestogo.com/robots.txt\n",
    "* Can the site handle my requests?\n",
    "    * https://www.nrcs.usda.gov/robots.txt\n",
    "* Can I use it in my research? What can I use it for?\n",
    "    * https://meta.wikimedia.org/wiki/Terms_of_use"
   ]
  },
  {
   "cell_type": "markdown",
   "metadata": {},
   "source": [
    "# Actual Tutorial"
   ]
  },
  {
   "cell_type": "markdown",
   "metadata": {},
   "source": [
    "# Background: Functions, Data Types, and Pandas"
   ]
  },
  {
   "cell_type": "markdown",
   "metadata": {},
   "source": [
    "## Functions"
   ]
  },
  {
   "cell_type": "code",
   "execution_count": 37,
   "metadata": {},
   "outputs": [
    {
     "name": "stdout",
     "output_type": "stream",
     "text": [
      "15\n",
      "19.5\n"
     ]
    }
   ],
   "source": [
    "def my_func(param):\n",
    "    print(param + 5)\n",
    "    \n",
    "my_func(10)\n",
    "\n",
    "def my_second_func(parameter):\n",
    "    '''\n",
    "    You can add a function description here - this is called a docstring!\n",
    "    '''\n",
    "    print(parameter + 7.5)\n",
    "    \n",
    "\n",
    "my_second_func(12)"
   ]
  },
  {
   "cell_type": "markdown",
   "metadata": {},
   "source": [
    "## Data Types"
   ]
  },
  {
   "cell_type": "markdown",
   "metadata": {},
   "source": [
    "### list\n",
    "\n",
    "* Store multiple items (elements) in a single variable. \n",
    "* Elements are separated by commas.\n",
    "* \n",
    "\n",
    "Note that indices start at 0 in Python!"
   ]
  },
  {
   "cell_type": "code",
   "execution_count": null,
   "metadata": {
    "scrolled": true
   },
   "outputs": [],
   "source": [
    "# initialize a list\n",
    "ex_list1 = [0, 1, 2]\n",
    "\n",
    "# print the list\n",
    "print(\"The 1st element of ex_list1 is\", ex_list1[0])\n",
    "\n",
    "# print length of a list\n",
    "print(\"List Length:\", len(ex_list1))\n",
    "\n",
    "# lists can contain \n",
    "ex_list2 = [\"Three\", [4,5]]\n",
    "\n",
    "# add two lists together \n",
    "ex_added_list = ex_list1 + ex_list2\n",
    "print(ex_added_list)\n",
    "\n",
    "\n",
    "# add an element to a list\n",
    "ex_added_list.append('new element!')\n",
    "print(ex_added_list)\n",
    "\n",
    "\n",
    "# LIST COMPREHENSION! very useful, allows us to easily filter and modify lists\n",
    "# the structure is generally []\n",
    "#this is equivalent to \"for loops\" that some of you are familiar with from other languages\n",
    "\n",
    "#this just duplicates the same list\n",
    "print('list comprehension duplicate output:', [elmnt for elmnt in ex_added_list])\n",
    "\n",
    "# we can use list comprehension to only keep integers (rather than the string \"Three\" or the list [4,5])\n",
    "filtered_ex_added_list = [entry for entry in ex_added_list if type(entry)==int]\n",
    "print('filtered_list = ', filtered_ex_added_list)\n",
    "\n",
    "# we can also use list comprehension to easily modify lists\n",
    "filtered_ex_added_list_plus_5 = [x+5 for x in filtered_ex_added_list]\n",
    "print('after adding 5 to each:', filtered_ex_added_list_plus_5)\n",
    "\n",
    "\n",
    "# list() syntax (turning things into lists, like dict.values)\n",
    "\n",
    "# explain joining list"
   ]
  },
  {
   "cell_type": "markdown",
   "metadata": {},
   "source": [
    "### str"
   ]
  },
  {
   "cell_type": "code",
   "execution_count": null,
   "metadata": {},
   "outputs": [],
   "source": [
    "# discuss splitting strings (str.split()), by space and by character"
   ]
  },
  {
   "cell_type": "markdown",
   "metadata": {},
   "source": [
    "### Dict"
   ]
  },
  {
   "cell_type": "code",
   "execution_count": 52,
   "metadata": {},
   "outputs": [
    {
     "name": "stdout",
     "output_type": "stream",
     "text": [
      "1\n",
      "{'a': 1, 'second element': 2, 3: 'third entry'}\n",
      "dict_keys(['a', 'second element', 3])\n",
      "dict_values([1, 2, 'third entry'])\n",
      "1\n"
     ]
    }
   ],
   "source": [
    "test_dict = {'a':1, 'second element':2}\n",
    "\n",
    "print(test_dict['a'])\n",
    "\n",
    "test_dict[3] = \"third entry\"\n",
    "\n",
    "print(test_dict)\n",
    "\n",
    "print(test_dict[1])\n",
    "\n",
    "print(test_dict.keys())\n",
    "\n",
    "print(test_dict.values())\n",
    "\n",
    "# print(test_dict.values()[0])\n",
    "print(list(test_dict.values())[0])"
   ]
  },
  {
   "cell_type": "markdown",
   "metadata": {},
   "source": [
    "### Set"
   ]
  },
  {
   "cell_type": "markdown",
   "metadata": {},
   "source": [
    "## Pandas\n",
    "\n",
    "https://pandas.pydata.org/pandas-docs/stable/index.html"
   ]
  },
  {
   "cell_type": "markdown",
   "metadata": {
    "heading_collapsed": true
   },
   "source": [
    "### DataFrame"
   ]
  },
  {
   "cell_type": "code",
   "execution_count": 45,
   "metadata": {
    "hidden": true
   },
   "outputs": [
    {
     "data": {
      "text/html": [
       "<div>\n",
       "<style scoped>\n",
       "    .dataframe tbody tr th:only-of-type {\n",
       "        vertical-align: middle;\n",
       "    }\n",
       "\n",
       "    .dataframe tbody tr th {\n",
       "        vertical-align: top;\n",
       "    }\n",
       "\n",
       "    .dataframe thead th {\n",
       "        text-align: right;\n",
       "    }\n",
       "</style>\n",
       "<table border=\"1\" class=\"dataframe\">\n",
       "  <thead>\n",
       "    <tr style=\"text-align: right;\">\n",
       "      <th></th>\n",
       "      <th>a column</th>\n",
       "      <th>another column</th>\n",
       "    </tr>\n",
       "  </thead>\n",
       "  <tbody>\n",
       "    <tr>\n",
       "      <th>0</th>\n",
       "      <td>1</td>\n",
       "      <td>a</td>\n",
       "    </tr>\n",
       "    <tr>\n",
       "      <th>1</th>\n",
       "      <td>2</td>\n",
       "      <td>b</td>\n",
       "    </tr>\n",
       "    <tr>\n",
       "      <th>2</th>\n",
       "      <td>3</td>\n",
       "      <td>c</td>\n",
       "    </tr>\n",
       "  </tbody>\n",
       "</table>\n",
       "</div>"
      ],
      "text/plain": [
       "   a column another column\n",
       "0         1              a\n",
       "1         2              b\n",
       "2         3              c"
      ]
     },
     "execution_count": 45,
     "metadata": {},
     "output_type": "execute_result"
    }
   ],
   "source": [
    "# initialize a dataframe from a dictionary with two lists\n",
    "test_df = pd.DataFrame({'a column': [1,2,3], 'another column': ['a', 'b', 'c']})\n",
    "test_df"
   ]
  },
  {
   "cell_type": "code",
   "execution_count": 46,
   "metadata": {
    "hidden": true
   },
   "outputs": [
    {
     "data": {
      "text/plain": [
       "0    1\n",
       "1    2\n",
       "2    3\n",
       "Name: a column, dtype: int64"
      ]
     },
     "execution_count": 46,
     "metadata": {},
     "output_type": "execute_result"
    }
   ],
   "source": [
    "# get \"a column\"\n",
    "test_df['a column']"
   ]
  },
  {
   "cell_type": "code",
   "execution_count": 47,
   "metadata": {
    "hidden": true
   },
   "outputs": [
    {
     "data": {
      "text/plain": [
       "a column          1\n",
       "another column    a\n",
       "Name: 0, dtype: object"
      ]
     },
     "execution_count": 47,
     "metadata": {},
     "output_type": "execute_result"
    }
   ],
   "source": [
    "# get the first row (remember indexing starts at 0 in Python!)\n",
    "test_df.iloc[0]"
   ]
  },
  {
   "cell_type": "code",
   "execution_count": 48,
   "metadata": {
    "hidden": true
   },
   "outputs": [
    {
     "data": {
      "text/plain": [
       "1"
      ]
     },
     "execution_count": 48,
     "metadata": {},
     "output_type": "execute_result"
    }
   ],
   "source": [
    "# get \"a columns\" 's first element\n",
    "test_df['a column'].iloc[0]"
   ]
  },
  {
   "cell_type": "code",
   "execution_count": 49,
   "metadata": {
    "hidden": true
   },
   "outputs": [
    {
     "data": {
      "text/html": [
       "<div>\n",
       "<style scoped>\n",
       "    .dataframe tbody tr th:only-of-type {\n",
       "        vertical-align: middle;\n",
       "    }\n",
       "\n",
       "    .dataframe tbody tr th {\n",
       "        vertical-align: top;\n",
       "    }\n",
       "\n",
       "    .dataframe thead th {\n",
       "        text-align: right;\n",
       "    }\n",
       "</style>\n",
       "<table border=\"1\" class=\"dataframe\">\n",
       "  <thead>\n",
       "    <tr style=\"text-align: right;\">\n",
       "      <th></th>\n",
       "      <th>a column</th>\n",
       "      <th>another column</th>\n",
       "      <th>new col</th>\n",
       "    </tr>\n",
       "  </thead>\n",
       "  <tbody>\n",
       "    <tr>\n",
       "      <th>0</th>\n",
       "      <td>1</td>\n",
       "      <td>a</td>\n",
       "      <td>4</td>\n",
       "    </tr>\n",
       "    <tr>\n",
       "      <th>1</th>\n",
       "      <td>2</td>\n",
       "      <td>b</td>\n",
       "      <td>5</td>\n",
       "    </tr>\n",
       "    <tr>\n",
       "      <th>2</th>\n",
       "      <td>3</td>\n",
       "      <td>c</td>\n",
       "      <td>6</td>\n",
       "    </tr>\n",
       "  </tbody>\n",
       "</table>\n",
       "</div>"
      ],
      "text/plain": [
       "   a column another column  new col\n",
       "0         1              a        4\n",
       "1         2              b        5\n",
       "2         3              c        6"
      ]
     },
     "execution_count": 49,
     "metadata": {},
     "output_type": "execute_result"
    }
   ],
   "source": [
    "# add a new column\n",
    "test_df['new col'] = [4,5,6]\n",
    "test_df"
   ]
  },
  {
   "cell_type": "code",
   "execution_count": 53,
   "metadata": {
    "hidden": true
   },
   "outputs": [
    {
     "data": {
      "text/html": [
       "<div>\n",
       "<style scoped>\n",
       "    .dataframe tbody tr th:only-of-type {\n",
       "        vertical-align: middle;\n",
       "    }\n",
       "\n",
       "    .dataframe tbody tr th {\n",
       "        vertical-align: top;\n",
       "    }\n",
       "\n",
       "    .dataframe thead th {\n",
       "        text-align: right;\n",
       "    }\n",
       "</style>\n",
       "<table border=\"1\" class=\"dataframe\">\n",
       "  <thead>\n",
       "    <tr style=\"text-align: right;\">\n",
       "      <th></th>\n",
       "      <th>a column</th>\n",
       "      <th>another column</th>\n",
       "      <th>new col</th>\n",
       "      <th>new col2</th>\n",
       "    </tr>\n",
       "  </thead>\n",
       "  <tbody>\n",
       "    <tr>\n",
       "      <th>0</th>\n",
       "      <td>1</td>\n",
       "      <td>a</td>\n",
       "      <td>4</td>\n",
       "      <td>new1</td>\n",
       "    </tr>\n",
       "    <tr>\n",
       "      <th>1</th>\n",
       "      <td>2</td>\n",
       "      <td>b</td>\n",
       "      <td>5</td>\n",
       "      <td>{'a': 1, 'second element': 2, 3: 'third entry'}</td>\n",
       "    </tr>\n",
       "    <tr>\n",
       "      <th>2</th>\n",
       "      <td>3</td>\n",
       "      <td>c</td>\n",
       "      <td>6</td>\n",
       "      <td>[1, 2]</td>\n",
       "    </tr>\n",
       "  </tbody>\n",
       "</table>\n",
       "</div>"
      ],
      "text/plain": [
       "   a column another column  new col  \\\n",
       "0         1              a        4   \n",
       "1         2              b        5   \n",
       "2         3              c        6   \n",
       "\n",
       "                                          new col2  \n",
       "0                                             new1  \n",
       "1  {'a': 1, 'second element': 2, 3: 'third entry'}  \n",
       "2                                           [1, 2]  "
      ]
     },
     "execution_count": 53,
     "metadata": {},
     "output_type": "execute_result"
    }
   ],
   "source": [
    "# add another new column - with mixed datatypes\n",
    "test_df['new col2'] = ['new1', test_dict, [1,2]]\n",
    "test_df"
   ]
  },
  {
   "cell_type": "code",
   "execution_count": 54,
   "metadata": {
    "hidden": true
   },
   "outputs": [
    {
     "data": {
      "text/plain": [
       "0     <class 'str'>\n",
       "1    <class 'dict'>\n",
       "2    <class 'list'>\n",
       "Name: new col2, dtype: object"
      ]
     },
     "execution_count": 54,
     "metadata": {},
     "output_type": "execute_result"
    }
   ],
   "source": [
    "# apply a function to a column (very useful!)\n",
    "def test_fnc_for_df(row_element):\n",
    "    return type(row_element)\n",
    "\n",
    "test_df['new col2'].apply(test_fnc_for_df)"
   ]
  },
  {
   "cell_type": "markdown",
   "metadata": {},
   "source": [
    "# Web Scraping"
   ]
  },
  {
   "cell_type": "markdown",
   "metadata": {},
   "source": [
    "## Import Necessary packages"
   ]
  },
  {
   "cell_type": "code",
   "execution_count": 4,
   "metadata": {},
   "outputs": [],
   "source": [
    "import numpy as np\n",
    "import pandas as pd\n",
    "from bs4 import BeautifulSoup\n",
    "import requests\n",
    "\n",
    "import lxml\n",
    "import lxml.html\n",
    "import cssselect\n",
    "from datetime import datetime\n",
    "from selenium import webdriver\n",
    "import time\n",
    "\n",
    "import nltk"
   ]
  },
  {
   "cell_type": "markdown",
   "metadata": {
    "heading_collapsed": true
   },
   "source": [
    "## pd.read_html() - USDA FIPS"
   ]
  },
  {
   "cell_type": "code",
   "execution_count": null,
   "metadata": {
    "hidden": true
   },
   "outputs": [],
   "source": [
    "# import data from USDA. Output is a LIST of tables\n",
    "usda_fips_page = pd.read_html(\"https://www.nrcs.usda.gov/wps/portal/nrcs/detail/national/home/?cid=nrcs143_013697\")"
   ]
  },
  {
   "cell_type": "code",
   "execution_count": null,
   "metadata": {
    "hidden": true,
    "scrolled": true
   },
   "outputs": [],
   "source": [
    "# print output to see what we have...\n",
    "usda_fips_page"
   ]
  },
  {
   "cell_type": "code",
   "execution_count": null,
   "metadata": {
    "hidden": true
   },
   "outputs": [],
   "source": [
    "# Strange output!\n",
    "usda_fips_page[0]"
   ]
  },
  {
   "cell_type": "code",
   "execution_count": null,
   "metadata": {
    "hidden": true
   },
   "outputs": [],
   "source": [
    "# looks like the first few dataframes are identical... this is strange but we only need one so it isn't a problem!\n",
    "usda_fips_page[1]"
   ]
  },
  {
   "cell_type": "code",
   "execution_count": null,
   "metadata": {
    "hidden": true
   },
   "outputs": [],
   "source": [
    "# make variable for fips table we want\n",
    "usda_fips = usda_fips_page[0]"
   ]
  },
  {
   "cell_type": "code",
   "execution_count": null,
   "metadata": {
    "hidden": true
   },
   "outputs": [],
   "source": [
    "# let's examine the dataframe more closely to make sure everything is correct\n",
    "\n",
    "# change display options to show all rows\n",
    "pd.set_option('display.max_rows', None)\n",
    "\n",
    "usda_fips"
   ]
  },
  {
   "cell_type": "code",
   "execution_count": null,
   "metadata": {
    "hidden": true
   },
   "outputs": [],
   "source": [
    "# it looks like the last row is the only incorrect one, so let's delete it\n",
    "usda_fips.tail()"
   ]
  },
  {
   "cell_type": "code",
   "execution_count": null,
   "metadata": {
    "hidden": true
   },
   "outputs": [],
   "source": [
    "# Let's confirm there are no other rows we need to drop. Check for nan values in any col pt. 1\n",
    "usda_fips.isnull()"
   ]
  },
  {
   "cell_type": "code",
   "execution_count": null,
   "metadata": {
    "hidden": true
   },
   "outputs": [],
   "source": [
    "# Check for nan values in any col pt. 2\n",
    "usda_fips.isnull().sum()"
   ]
  },
  {
   "cell_type": "code",
   "execution_count": null,
   "metadata": {
    "hidden": true
   },
   "outputs": [],
   "source": [
    "# drop the last row\n",
    "\n",
    "# this is the output we want\n",
    "usda_fips.drop(3232)\n",
    "\n",
    "# now replace the existing \"usda_fips\" dataframe with the version missing the last row (inplace=True)\n",
    "usda_fips.drop(3232, inplace=True)"
   ]
  },
  {
   "cell_type": "markdown",
   "metadata": {
    "heading_collapsed": true
   },
   "source": [
    "## pd.read_html() -  FIPS"
   ]
  },
  {
   "cell_type": "code",
   "execution_count": null,
   "metadata": {
    "hidden": true
   },
   "outputs": [],
   "source": [
    "# import data from wikipedia. Again, output is a LIST of tables\n",
    "fips_page = pd.read_html(\"https://en.wikipedia.org/wiki/List_of_United_States_FIPS_codes_by_county\")"
   ]
  },
  {
   "cell_type": "code",
   "execution_count": null,
   "metadata": {
    "hidden": true,
    "scrolled": true
   },
   "outputs": [],
   "source": [
    "# let's print the output and take a look...\n",
    "fips_page"
   ]
  },
  {
   "cell_type": "code",
   "execution_count": null,
   "metadata": {
    "hidden": true
   },
   "outputs": [],
   "source": [
    "# first element?\n",
    "fips_page[0]"
   ]
  },
  {
   "cell_type": "code",
   "execution_count": null,
   "metadata": {
    "hidden": true
   },
   "outputs": [],
   "source": [
    "fips_page[1]"
   ]
  },
  {
   "cell_type": "code",
   "execution_count": null,
   "metadata": {
    "hidden": true
   },
   "outputs": [],
   "source": [
    "# we want the 2nd table (recall: indices start at 0)\n",
    "fips = fips_page[1]\n",
    "\n",
    "# remove all hyperlinks (these look like \"... County [h]\", etc.)\n",
    "fips['County or equivalent'] = fips['County or equivalent'].str.replace(r\"\\[.*\\]\",\"\")\n",
    "\n",
    "# convert to uppercase\n",
    "fips['County or equivalent'] = fips['County or equivalent'].apply(lambda x: x.upper())\n",
    "fips['State or equivalent'] = fips['State or equivalent'].apply(lambda x: x.upper())\n",
    "\n",
    "# replace \"St.\" with \"Saint\"\n",
    "fips['County or equivalent'] = [x.replace('ST.','SAINT') for x in fips['County or equivalent']]\n",
    "\n",
    "# remove everything after a comma in a county name (e.g. \"ANCHORAGE, MUNICIPALITY OF\")\n",
    "fips['County or equivalent'] = [x.split(',')[0] for x in fips['County or equivalent']]\n",
    "\n",
    "# replace DC info to correspond to GeoCov19 format\n",
    "dc_loc = fips[fips['County or equivalent']=='DISTRICT OF COLUMBIA'].index.tolist()[0]\n",
    "fips['State or equivalent'].loc[dc_loc] = 'WASHINGTON, D.C.'\n",
    "fips['County or equivalent'].loc[dc_loc] = 'WASHINGTON'\n",
    "\n",
    "############################################################################################\n",
    "\n",
    "# Save FIPS dataframe to file\n",
    "\n",
    "FIPS_SAVE_PATH = \n",
    "\n",
    "fips.to_csv(FIPS_SAVE_PATH, index=False)"
   ]
  },
  {
   "cell_type": "markdown",
   "metadata": {
    "heading_collapsed": true
   },
   "source": [
    "## Request  + BeautifulSoup\n",
    "\n",
    " Red-bellied Snake (Wikipedia) Text Analysis"
   ]
  },
  {
   "cell_type": "markdown",
   "metadata": {
    "hidden": true
   },
   "source": [
    "### Red-bellied Snake (Wikipedia) Text Analysis\n",
    "\n",
    "Hypothetical: we want to get a list of all words, and their frequency, from this wikipedia page"
   ]
  },
  {
   "cell_type": "code",
   "execution_count": null,
   "metadata": {
    "hidden": true
   },
   "outputs": [],
   "source": [
    "# use requests to get URL\n",
    "wiki_snake_url = \"https://en.wikipedia.org/wiki/Red-bellied_black_snake\"\n",
    "wiki_snake_response = requests.get(wiki_snake_url)\n",
    "\n",
    "# it prints \"200\" if the page was successfully downloaded!\n",
    "print(wiki_snake_response)"
   ]
  },
  {
   "cell_type": "code",
   "execution_count": null,
   "metadata": {
    "hidden": true
   },
   "outputs": [],
   "source": [
    "#let's examine the output... which turns out to be a mess (this is where BeautifulSoup comes in handy)\n",
    "wiki_snake_response.text"
   ]
  },
  {
   "cell_type": "code",
   "execution_count": null,
   "metadata": {
    "hidden": true
   },
   "outputs": [],
   "source": [
    "# use BeautifulSoup's html parser to convert the html document into a BeautifulSoup object\n",
    "wiki_snake_soup = BeautifulSoup(wiki_snake_response.text, 'html.parser')\n",
    "\n",
    "# BeautifulSoup gives us a more readable format (barely - it doesn't make a huge difference in this example)\n",
    "wiki_snake_soup.prettify()"
   ]
  },
  {
   "cell_type": "code",
   "execution_count": null,
   "metadata": {
    "hidden": true
   },
   "outputs": [],
   "source": [
    "# we need to display the text! Let's get all elements with a \"p\" (paragraph) tag \n",
    "\n",
    "# print([paragraph.text for paragraph in wiki_snake_soup.find_all('p')])\n",
    "\n",
    "# this shows us all html with a \"p\" tag (paragraphs), but we just want the text\n",
    "for paragraph in wiki_snake_soup.find_all('p'):\n",
    "    print(paragraph)"
   ]
  },
  {
   "cell_type": "code",
   "execution_count": null,
   "metadata": {
    "hidden": true
   },
   "outputs": [],
   "source": [
    "# here is how we display the pure text\n",
    "\n",
    "for paragraph in wiki_snake_soup.find_all('p'):\n",
    "    print(paragraph.text)\n",
    "    "
   ]
  },
  {
   "cell_type": "code",
   "execution_count": null,
   "metadata": {
    "hidden": true
   },
   "outputs": [],
   "source": [
    "# we're almost there, we just need to combine this output (we'll use list comprehension)\n",
    "\n",
    "wiki_snake_text = ' '.join([paragraph.text for paragraph in wiki_snake_soup.find_all('p')])\n",
    "\n",
    "wiki_snake_text\n",
    "#[paragraph.text for paragraph in wiki_snake_soup.find_all('p')] is a list!\n",
    "\n",
    "# #this is equivalent to the following code which some might find more familiar:\n",
    "# wiki_snake_text_list = []\n",
    "\n",
    "# for paragraph in wiki_snake_soup.find_all('p'):\n",
    "#     wiki_snake_text_list.append(paragraph)\n",
    "    \n",
    "# wiki_snake_text = ' '.join(wiki_snake_text)"
   ]
  },
  {
   "cell_type": "code",
   "execution_count": null,
   "metadata": {
    "hidden": true,
    "scrolled": true
   },
   "outputs": [],
   "source": [
    "# ' '.join(wiki_snake_text.split())"
   ]
  },
  {
   "cell_type": "code",
   "execution_count": null,
   "metadata": {
    "hidden": true
   },
   "outputs": [],
   "source": [
    "# now let's count occurences of each word\n",
    "# import nltk\n",
    "\n",
    "nltk.FreqDist(wiki_snake_text)"
   ]
  },
  {
   "cell_type": "code",
   "execution_count": null,
   "metadata": {
    "hidden": true
   },
   "outputs": [],
   "source": [
    "# looks like we need to split the text first:\n",
    "split_wiki_snake_text = wiki_snake_text.split()"
   ]
  },
  {
   "cell_type": "code",
   "execution_count": null,
   "metadata": {
    "hidden": true
   },
   "outputs": [],
   "source": [
    "wiki_snake_word_freqs = nltk.FreqDist(split_wiki_snake_text)"
   ]
  },
  {
   "cell_type": "code",
   "execution_count": null,
   "metadata": {
    "hidden": true
   },
   "outputs": [],
   "source": [
    "wiki_snake_word_freqs"
   ]
  },
  {
   "cell_type": "code",
   "execution_count": null,
   "metadata": {
    "hidden": true
   },
   "outputs": [],
   "source": [
    "wiki_snake_output = pd.DataFrame({'Word': wiki_snake_word_freqs.keys(), 'Frequency': wiki_snake_word_freqs.values()})"
   ]
  },
  {
   "cell_type": "code",
   "execution_count": null,
   "metadata": {
    "hidden": true
   },
   "outputs": [],
   "source": [
    "wiki_snake_output"
   ]
  },
  {
   "cell_type": "code",
   "execution_count": null,
   "metadata": {
    "hidden": true
   },
   "outputs": [],
   "source": [
    "wiki_snake_output.sort_values('Frequency', ascending=False, inplace=True)"
   ]
  },
  {
   "cell_type": "code",
   "execution_count": null,
   "metadata": {
    "hidden": true
   },
   "outputs": [],
   "source": [
    "wiki_snake_num_words = wiki_snake_output['Frequency'].sum()"
   ]
  },
  {
   "cell_type": "code",
   "execution_count": null,
   "metadata": {
    "hidden": true
   },
   "outputs": [],
   "source": [
    "wiki_snake_output['% Freq'] = (wiki_snake_output['Frequency'] / wiki_snake_num_words) * 100"
   ]
  },
  {
   "cell_type": "code",
   "execution_count": null,
   "metadata": {
    "hidden": true
   },
   "outputs": [],
   "source": [
    "wiki_snake_output"
   ]
  },
  {
   "cell_type": "code",
   "execution_count": null,
   "metadata": {
    "hidden": true
   },
   "outputs": [],
   "source": [
    "wiki_snake_output.to_csv(\"Red Bellied Snake Words & Frequencies.csv\")"
   ]
  },
  {
   "cell_type": "markdown",
   "metadata": {},
   "source": [
    "## Request  + BeautifulSoup - lichess.org user stats\n",
    "\n",
    "Let's get the information of every top \"bullet\" chess player\n",
    "\n",
    "Our approach:\n",
    "* Get the list of top bullet players\n",
    "    * Listed at https://lichess.org/player/top/200/bullet\n",
    "* Go to each player's account\n",
    "    * Account page URLs have the following structure: \"https://lichess.org/@/\" + username\n",
    "* Get the information we need and compile it into a pandas DataFrame\n",
    "    * Do this by writing several functions to get specific pieces of information\n",
    "    \n",
    "* Save the dataframe as a .csv file"
   ]
  },
  {
   "cell_type": "code",
   "execution_count": 28,
   "metadata": {},
   "outputs": [
    {
     "data": {
      "text/plain": [
       "[       0                     1     2     3\n",
       " 0      1     GM nihalsarin2004  3101  25.0\n",
       " 1      2         GM C9C9C9C9C9  3068  21.0\n",
       " 2      3    GM Zhigalko_Sergei  3051  26.0\n",
       " 3      4           GM muisback  3018  15.0\n",
       " 4      5             GM Arka50  3016  29.0\n",
       " ..   ...                   ...   ...   ...\n",
       " 195  196         GM elshan1985  2780  28.0\n",
       " 196  197  GM tornike_sanikidze  2780  17.0\n",
       " 197  198        Hellblazer2007  2780  30.0\n",
       " 198  199             Likonendy  2779   3.0\n",
       " 199  200           FM Kaldas90  2778   2.0\n",
       " \n",
       " [200 rows x 4 columns]]"
      ]
     },
     "execution_count": 28,
     "metadata": {},
     "output_type": "execute_result"
    }
   ],
   "source": [
    "# here are the top bullet players: https://lichess.org/player/top/200/bullet\n",
    "\n",
    "# scrape this table!\n",
    "players_df_list = pd.read_html(\"https://lichess.org/player/top/200/bullet\")\n",
    "\n",
    "# let's see the output:\n",
    "players_df_list"
   ]
  },
  {
   "cell_type": "code",
   "execution_count": 29,
   "metadata": {},
   "outputs": [],
   "source": [
    "# looks like we only need/want the first dataframe in this list (turns out there's only one anyway)\n",
    "players_df = players_df_list[0]"
   ]
  },
  {
   "cell_type": "code",
   "execution_count": 30,
   "metadata": {},
   "outputs": [
    {
     "data": {
      "text/html": [
       "<div>\n",
       "<style scoped>\n",
       "    .dataframe tbody tr th:only-of-type {\n",
       "        vertical-align: middle;\n",
       "    }\n",
       "\n",
       "    .dataframe tbody tr th {\n",
       "        vertical-align: top;\n",
       "    }\n",
       "\n",
       "    .dataframe thead th {\n",
       "        text-align: right;\n",
       "    }\n",
       "</style>\n",
       "<table border=\"1\" class=\"dataframe\">\n",
       "  <thead>\n",
       "    <tr style=\"text-align: right;\">\n",
       "      <th></th>\n",
       "      <th>0</th>\n",
       "      <th>1</th>\n",
       "      <th>2</th>\n",
       "      <th>3</th>\n",
       "    </tr>\n",
       "  </thead>\n",
       "  <tbody>\n",
       "    <tr>\n",
       "      <th>0</th>\n",
       "      <td>1</td>\n",
       "      <td>GM nihalsarin2004</td>\n",
       "      <td>3101</td>\n",
       "      <td>25.0</td>\n",
       "    </tr>\n",
       "    <tr>\n",
       "      <th>1</th>\n",
       "      <td>2</td>\n",
       "      <td>GM C9C9C9C9C9</td>\n",
       "      <td>3068</td>\n",
       "      <td>21.0</td>\n",
       "    </tr>\n",
       "    <tr>\n",
       "      <th>2</th>\n",
       "      <td>3</td>\n",
       "      <td>GM Zhigalko_Sergei</td>\n",
       "      <td>3051</td>\n",
       "      <td>26.0</td>\n",
       "    </tr>\n",
       "    <tr>\n",
       "      <th>3</th>\n",
       "      <td>4</td>\n",
       "      <td>GM muisback</td>\n",
       "      <td>3018</td>\n",
       "      <td>15.0</td>\n",
       "    </tr>\n",
       "    <tr>\n",
       "      <th>4</th>\n",
       "      <td>5</td>\n",
       "      <td>GM Arka50</td>\n",
       "      <td>3016</td>\n",
       "      <td>29.0</td>\n",
       "    </tr>\n",
       "    <tr>\n",
       "      <th>...</th>\n",
       "      <td>...</td>\n",
       "      <td>...</td>\n",
       "      <td>...</td>\n",
       "      <td>...</td>\n",
       "    </tr>\n",
       "    <tr>\n",
       "      <th>195</th>\n",
       "      <td>196</td>\n",
       "      <td>GM elshan1985</td>\n",
       "      <td>2780</td>\n",
       "      <td>28.0</td>\n",
       "    </tr>\n",
       "    <tr>\n",
       "      <th>196</th>\n",
       "      <td>197</td>\n",
       "      <td>GM tornike_sanikidze</td>\n",
       "      <td>2780</td>\n",
       "      <td>17.0</td>\n",
       "    </tr>\n",
       "    <tr>\n",
       "      <th>197</th>\n",
       "      <td>198</td>\n",
       "      <td>Hellblazer2007</td>\n",
       "      <td>2780</td>\n",
       "      <td>30.0</td>\n",
       "    </tr>\n",
       "    <tr>\n",
       "      <th>198</th>\n",
       "      <td>199</td>\n",
       "      <td>Likonendy</td>\n",
       "      <td>2779</td>\n",
       "      <td>3.0</td>\n",
       "    </tr>\n",
       "    <tr>\n",
       "      <th>199</th>\n",
       "      <td>200</td>\n",
       "      <td>FM Kaldas90</td>\n",
       "      <td>2778</td>\n",
       "      <td>2.0</td>\n",
       "    </tr>\n",
       "  </tbody>\n",
       "</table>\n",
       "<p>200 rows × 4 columns</p>\n",
       "</div>"
      ],
      "text/plain": [
       "       0                     1     2     3\n",
       "0      1     GM nihalsarin2004  3101  25.0\n",
       "1      2         GM C9C9C9C9C9  3068  21.0\n",
       "2      3    GM Zhigalko_Sergei  3051  26.0\n",
       "3      4           GM muisback  3018  15.0\n",
       "4      5             GM Arka50  3016  29.0\n",
       "..   ...                   ...   ...   ...\n",
       "195  196         GM elshan1985  2780  28.0\n",
       "196  197  GM tornike_sanikidze  2780  17.0\n",
       "197  198        Hellblazer2007  2780  30.0\n",
       "198  199             Likonendy  2779   3.0\n",
       "199  200           FM Kaldas90  2778   2.0\n",
       "\n",
       "[200 rows x 4 columns]"
      ]
     },
     "execution_count": 30,
     "metadata": {},
     "output_type": "execute_result"
    }
   ],
   "source": [
    "players_df"
   ]
  },
  {
   "cell_type": "code",
   "execution_count": 31,
   "metadata": {},
   "outputs": [
    {
     "data": {
      "text/html": [
       "<div>\n",
       "<style scoped>\n",
       "    .dataframe tbody tr th:only-of-type {\n",
       "        vertical-align: middle;\n",
       "    }\n",
       "\n",
       "    .dataframe tbody tr th {\n",
       "        vertical-align: top;\n",
       "    }\n",
       "\n",
       "    .dataframe thead th {\n",
       "        text-align: right;\n",
       "    }\n",
       "</style>\n",
       "<table border=\"1\" class=\"dataframe\">\n",
       "  <thead>\n",
       "    <tr style=\"text-align: right;\">\n",
       "      <th></th>\n",
       "      <th>1</th>\n",
       "      <th>2</th>\n",
       "    </tr>\n",
       "  </thead>\n",
       "  <tbody>\n",
       "    <tr>\n",
       "      <th>0</th>\n",
       "      <td>GM nihalsarin2004</td>\n",
       "      <td>3101</td>\n",
       "    </tr>\n",
       "    <tr>\n",
       "      <th>1</th>\n",
       "      <td>GM C9C9C9C9C9</td>\n",
       "      <td>3068</td>\n",
       "    </tr>\n",
       "    <tr>\n",
       "      <th>2</th>\n",
       "      <td>GM Zhigalko_Sergei</td>\n",
       "      <td>3051</td>\n",
       "    </tr>\n",
       "    <tr>\n",
       "      <th>3</th>\n",
       "      <td>GM muisback</td>\n",
       "      <td>3018</td>\n",
       "    </tr>\n",
       "    <tr>\n",
       "      <th>4</th>\n",
       "      <td>GM Arka50</td>\n",
       "      <td>3016</td>\n",
       "    </tr>\n",
       "    <tr>\n",
       "      <th>...</th>\n",
       "      <td>...</td>\n",
       "      <td>...</td>\n",
       "    </tr>\n",
       "    <tr>\n",
       "      <th>195</th>\n",
       "      <td>GM elshan1985</td>\n",
       "      <td>2780</td>\n",
       "    </tr>\n",
       "    <tr>\n",
       "      <th>196</th>\n",
       "      <td>GM tornike_sanikidze</td>\n",
       "      <td>2780</td>\n",
       "    </tr>\n",
       "    <tr>\n",
       "      <th>197</th>\n",
       "      <td>Hellblazer2007</td>\n",
       "      <td>2780</td>\n",
       "    </tr>\n",
       "    <tr>\n",
       "      <th>198</th>\n",
       "      <td>Likonendy</td>\n",
       "      <td>2779</td>\n",
       "    </tr>\n",
       "    <tr>\n",
       "      <th>199</th>\n",
       "      <td>FM Kaldas90</td>\n",
       "      <td>2778</td>\n",
       "    </tr>\n",
       "  </tbody>\n",
       "</table>\n",
       "<p>200 rows × 2 columns</p>\n",
       "</div>"
      ],
      "text/plain": [
       "                        1     2\n",
       "0       GM nihalsarin2004  3101\n",
       "1           GM C9C9C9C9C9  3068\n",
       "2      GM Zhigalko_Sergei  3051\n",
       "3             GM muisback  3018\n",
       "4               GM Arka50  3016\n",
       "..                    ...   ...\n",
       "195         GM elshan1985  2780\n",
       "196  GM tornike_sanikidze  2780\n",
       "197        Hellblazer2007  2780\n",
       "198             Likonendy  2779\n",
       "199           FM Kaldas90  2778\n",
       "\n",
       "[200 rows x 2 columns]"
      ]
     },
     "execution_count": 31,
     "metadata": {},
     "output_type": "execute_result"
    }
   ],
   "source": [
    "# column 0 is the user's ranking, and column 3 is their recent rating change. we aren't interested in either, so let's delete them\n",
    "del players_df[0], players_df[3]\n",
    "\n",
    "players_df"
   ]
  },
  {
   "cell_type": "code",
   "execution_count": 32,
   "metadata": {},
   "outputs": [
    {
     "data": {
      "text/html": [
       "<div>\n",
       "<style scoped>\n",
       "    .dataframe tbody tr th:only-of-type {\n",
       "        vertical-align: middle;\n",
       "    }\n",
       "\n",
       "    .dataframe tbody tr th {\n",
       "        vertical-align: top;\n",
       "    }\n",
       "\n",
       "    .dataframe thead th {\n",
       "        text-align: right;\n",
       "    }\n",
       "</style>\n",
       "<table border=\"1\" class=\"dataframe\">\n",
       "  <thead>\n",
       "    <tr style=\"text-align: right;\">\n",
       "      <th></th>\n",
       "      <th>User</th>\n",
       "      <th>Rating</th>\n",
       "    </tr>\n",
       "  </thead>\n",
       "  <tbody>\n",
       "    <tr>\n",
       "      <th>0</th>\n",
       "      <td>GM nihalsarin2004</td>\n",
       "      <td>3101</td>\n",
       "    </tr>\n",
       "    <tr>\n",
       "      <th>1</th>\n",
       "      <td>GM C9C9C9C9C9</td>\n",
       "      <td>3068</td>\n",
       "    </tr>\n",
       "    <tr>\n",
       "      <th>2</th>\n",
       "      <td>GM Zhigalko_Sergei</td>\n",
       "      <td>3051</td>\n",
       "    </tr>\n",
       "    <tr>\n",
       "      <th>3</th>\n",
       "      <td>GM muisback</td>\n",
       "      <td>3018</td>\n",
       "    </tr>\n",
       "    <tr>\n",
       "      <th>4</th>\n",
       "      <td>GM Arka50</td>\n",
       "      <td>3016</td>\n",
       "    </tr>\n",
       "    <tr>\n",
       "      <th>...</th>\n",
       "      <td>...</td>\n",
       "      <td>...</td>\n",
       "    </tr>\n",
       "    <tr>\n",
       "      <th>195</th>\n",
       "      <td>GM elshan1985</td>\n",
       "      <td>2780</td>\n",
       "    </tr>\n",
       "    <tr>\n",
       "      <th>196</th>\n",
       "      <td>GM tornike_sanikidze</td>\n",
       "      <td>2780</td>\n",
       "    </tr>\n",
       "    <tr>\n",
       "      <th>197</th>\n",
       "      <td>Hellblazer2007</td>\n",
       "      <td>2780</td>\n",
       "    </tr>\n",
       "    <tr>\n",
       "      <th>198</th>\n",
       "      <td>Likonendy</td>\n",
       "      <td>2779</td>\n",
       "    </tr>\n",
       "    <tr>\n",
       "      <th>199</th>\n",
       "      <td>FM Kaldas90</td>\n",
       "      <td>2778</td>\n",
       "    </tr>\n",
       "  </tbody>\n",
       "</table>\n",
       "<p>200 rows × 2 columns</p>\n",
       "</div>"
      ],
      "text/plain": [
       "                     User  Rating\n",
       "0       GM nihalsarin2004    3101\n",
       "1           GM C9C9C9C9C9    3068\n",
       "2      GM Zhigalko_Sergei    3051\n",
       "3             GM muisback    3018\n",
       "4               GM Arka50    3016\n",
       "..                    ...     ...\n",
       "195         GM elshan1985    2780\n",
       "196  GM tornike_sanikidze    2780\n",
       "197        Hellblazer2007    2780\n",
       "198             Likonendy    2779\n",
       "199           FM Kaldas90    2778\n",
       "\n",
       "[200 rows x 2 columns]"
      ]
     },
     "execution_count": 32,
     "metadata": {},
     "output_type": "execute_result"
    }
   ],
   "source": [
    "# now let's rename the columns to more helpful labels\n",
    "players_df.rename(columns={1:'User', 2:'Rating'})"
   ]
  },
  {
   "cell_type": "code",
   "execution_count": 33,
   "metadata": {},
   "outputs": [],
   "source": [
    "players_df.rename(columns={1:'User', 2:'Rating'}, inplace=True)"
   ]
  },
  {
   "cell_type": "code",
   "execution_count": 55,
   "metadata": {},
   "outputs": [
    {
     "data": {
      "text/plain": [
       "'https://lichess.org/@/GM\\xa0nihalsarin2004'"
      ]
     },
     "execution_count": 55,
     "metadata": {},
     "output_type": "execute_result"
    }
   ],
   "source": [
    "# url of first user's account\n",
    "# \"https://lichess.org/@/\" + ' '.join(players_df['User'].iloc[0].split())\n",
    "\"https://lichess.org/@/\" + players_df['User'].iloc[0]"
   ]
  },
  {
   "cell_type": "code",
   "execution_count": 58,
   "metadata": {},
   "outputs": [],
   "source": [
    "# replace \"/xa0\"\n",
    "\n",
    "def replace_xa0(username):\n",
    "    '''\n",
    "    input = a player's username (string)\n",
    "    output = a player's username, with \"\\xa0\" replaced by \" \"\n",
    "    '''\n",
    "    return username.replace(\"\\xa0\", \" \")\n",
    "\n",
    "# apply this function to our dataframe\n",
    "## first, let's check to see that it returns the right output\n",
    "players_df['User'].apply(replace_xa0)\n",
    "\n",
    "## looks good (or at least not harmful), so let's replace the username\n",
    "players_df['User'] = players_df['User'].apply(replace_xa0)"
   ]
  },
  {
   "cell_type": "code",
   "execution_count": 59,
   "metadata": {},
   "outputs": [
    {
     "data": {
      "text/plain": [
       "'https://lichess.org/@/GM nihalsarin2004'"
      ]
     },
     "execution_count": 59,
     "metadata": {},
     "output_type": "execute_result"
    }
   ],
   "source": [
    "# retry printing url of first user's account\n",
    "\n",
    "\"https://lichess.org/@/\" + players_df['User'].iloc[0]"
   ]
  },
  {
   "cell_type": "code",
   "execution_count": null,
   "metadata": {},
   "outputs": [],
   "source": [
    "# we need to split the \"User\" column, otherwise we get urls like \"https://lichess.org/@/GM RebeccaHarris\" instead of \"https://lichess.org/@/RebeccaHarris\"\n",
    "\n",
    "def get_user(title_user_str):\n",
    "    \"\"\"\n",
    "    title_user_str looks like \"GM RebeccaHarris\" or \"Shprot86\"\n",
    "    \"\"\"\n",
    "    if len(title_user_str.split()==2):    #if the user is titled (has two words in their user field, rather than one)\n",
    "        return title_user_str.split()[1]   #return their USERNAME\n",
    "    else:    # if the user is not titled (has one word in their user field)\n",
    "        return title_user_str    #return the input string, since it is already their username without a title\n",
    "\n",
    "\n",
    "def get_title(title_user_str):\n",
    "    \"\"\"\n",
    "    title_user_str looks like \"GM RebeccaHarris\" or \"Shprot86\"\n",
    "    \"\"\"\n",
    "    if len(title_user_str.split()==2):    #if the user is titled (has two words in their user field, rather than one)\n",
    "        return title_user_str.split()[0]   #return their TITLE\n",
    "    else:    # if the user is not titled (has one word in their user field)\n",
    "        return  np.nan    #return a missing value\n",
    "\n",
    "\n",
    "\n",
    "# def split_name_from_title(title_user_str):    \n",
    "#     \"\"\"\n",
    "#     title_user_str looks like \"GM RebeccaHarris\" or \"Shprot86\"\n",
    "#     \"\"\"\n",
    "#     if len(title_user_str.split()==2):    #if the user is titled (has two words in their user field, rather than one)\n",
    "#         return title_user_str.split()\n",
    "#     else:    # if the user is not titled (has one word in their user field)\n",
    "#         return ((np.nan, title_user_str))\n",
    "    \n",
    "    \n",
    "players_df['Username'] = players_df['User'].apply(split_name_from_title)"
   ]
  },
  {
   "cell_type": "code",
   "execution_count": null,
   "metadata": {},
   "outputs": [],
   "source": [
    "players_df"
   ]
  },
  {
   "cell_type": "code",
   "execution_count": null,
   "metadata": {},
   "outputs": [],
   "source": [
    "# players_df['Title'] = players_df['User'].str.split('\\xa0').str[0]\n",
    "\n",
    "# players_df['User'] = players_df['User'].str.split('\\xa0').str[1]"
   ]
  },
  {
   "cell_type": "code",
   "execution_count": null,
   "metadata": {},
   "outputs": [],
   "source": []
  },
  {
   "cell_type": "code",
   "execution_count": null,
   "metadata": {
    "scrolled": true
   },
   "outputs": [],
   "source": [
    "pd.set_option('display.max_rows', 200)\n",
    "\n",
    "players_df"
   ]
  },
  {
   "cell_type": "code",
   "execution_count": null,
   "metadata": {},
   "outputs": [],
   "source": []
  },
  {
   "cell_type": "code",
   "execution_count": null,
   "metadata": {},
   "outputs": [],
   "source": [
    "import time\n",
    "\n",
    "# define function\n",
    "def get_user_info(lichess_user_id):\n",
    "    print(user_ID)\n",
    "    \n",
    "    player_url = \"https://lichess.org/@/\" + user_ID\n",
    "    print(player_url)\n",
    "    \n",
    "    player_response = requests.get(player_url)\n",
    "    \n",
    "    player_soup = BeautifulSoup(player_response.text, 'html.parser')\n",
    "    \n",
    "    join_date = get_join_date(player_soup=player_soup)\n",
    "    \n",
    "    time_spent_online = get_time_spent_online(player_soup=player_soup)\n",
    "    \n",
    "    followers = get_num_followers(player_soup=player_soup)\n",
    "\n",
    "# apply function\n",
    "for user_ID in [players_df['User'].iloc[0]]:\n",
    "  \n",
    "    get_user_info(user_ID)\n",
    "\n",
    "    time.sleep(.5) "
   ]
  },
  {
   "cell_type": "code",
   "execution_count": null,
   "metadata": {},
   "outputs": [],
   "source": [
    "# let's get their join date\n",
    "member_since = player_soup.select('.thin:nth-child(1)')\n",
    "\n",
    "# let's see its format\n",
    "print(member_since)\n",
    "\n",
    "# we need to get the text from here and clean it\n",
    "# member_since.text\n",
    "\n",
    "# we forgot that member_since is a list! (even though it just has one element, it's' still a list).\n",
    "# let's get the text from its only element:\n",
    "print([x.text for x in member_since])\n",
    "\n",
    "# great! we just need to clean this to get useful information out - we're almost there\n",
    "def get_membership_date(string):\n",
    "    split_str = string.split('since')[1]\n",
    "    return split_str\n",
    "\n",
    "#test our function:\n",
    "print(get_membership_date([x.text for x in member_since][0]))\n",
    "\n",
    "# ok the function looks good, let's put it into our "
   ]
  },
  {
   "cell_type": "code",
   "execution_count": null,
   "metadata": {},
   "outputs": [],
   "source": [
    "def get_join_date(player_soup):\n",
    "    member_since = player_soup.select('.thin:nth-child(1)')\n",
    "    \n",
    "    return get_membership_date([x.text for x in member_since][0])"
   ]
  },
  {
   "cell_type": "markdown",
   "metadata": {},
   "source": [
    "### Get Time Spent Online"
   ]
  },
  {
   "cell_type": "code",
   "execution_count": null,
   "metadata": {},
   "outputs": [],
   "source": [
    "def get_time_spent_online(player_soup):\n",
    "\n",
    "    time_spent = player_soup.select('p:nth-child(4)')\n",
    "    \n",
    "    time_spent = [x.text for x in time_spent]\n",
    "    \n",
    "    return time_spent"
   ]
  },
  {
   "cell_type": "code",
   "execution_count": null,
   "metadata": {},
   "outputs": [],
   "source": [
    "get_time_spent_online(player_soup)"
   ]
  },
  {
   "cell_type": "markdown",
   "metadata": {},
   "source": [
    "### Get # followers "
   ]
  },
  {
   "cell_type": "code",
   "execution_count": null,
   "metadata": {},
   "outputs": [],
   "source": [
    "def get_num_followers(player_soup):\n",
    "    num_followers = player_soup.select('.user-show__social .nm-item:nth-child(1)')\n",
    "    \n",
    "    num_followers = [x.text for x in num_followers]\n",
    "    \n",
    "    num_followers = num_followers[0].split('f')[0]\n",
    "    \n",
    "    num_followers = num_followers.replace(',','')\n",
    "    \n",
    "    num_followers = int(num_followers)\n",
    "    \n",
    "    return num_followers"
   ]
  },
  {
   "cell_type": "code",
   "execution_count": null,
   "metadata": {},
   "outputs": [],
   "source": [
    "get_num_followers(player_soup)"
   ]
  },
  {
   "cell_type": "markdown",
   "metadata": {},
   "source": [
    "### Get bio - NOT DONE!!!!!!!!!!!!!!!!!!!!!!!!!!!!!!!!!"
   ]
  },
  {
   "cell_type": "code",
   "execution_count": null,
   "metadata": {},
   "outputs": [],
   "source": [
    "def get_bio(player_soup):\n",
    "    \n",
    "    bio = player_soup.select('.bio')\n",
    "    \n",
    "    print(bio)"
   ]
  },
  {
   "cell_type": "code",
   "execution_count": null,
   "metadata": {},
   "outputs": [],
   "source": [
    "get_bio(player_soup)"
   ]
  },
  {
   "cell_type": "code",
   "execution_count": null,
   "metadata": {},
   "outputs": [],
   "source": [
    "mik_url = \"https://lichess.org/@/\" + 'mgaster'\n",
    "print(mik_url)\n",
    "\n",
    "mik_response = requests.get(mik_url)\n",
    "\n",
    "mik_soup = BeautifulSoup(mik_response.text, 'html.parser')"
   ]
  },
  {
   "cell_type": "code",
   "execution_count": null,
   "metadata": {},
   "outputs": [],
   "source": [
    "player_soup.select('.patron')"
   ]
  },
  {
   "cell_type": "code",
   "execution_count": null,
   "metadata": {},
   "outputs": [],
   "source": [
    "mik_soup.select('.patron')"
   ]
  },
  {
   "cell_type": "markdown",
   "metadata": {},
   "source": [
    "# MAYBE TRY XPATH HERE?"
   ]
  }
 ],
 "metadata": {
  "kernelspec": {
   "display_name": "Python 3",
   "language": "python",
   "name": "python3"
  },
  "language_info": {
   "codemirror_mode": {
    "name": "ipython",
    "version": 3
   },
   "file_extension": ".py",
   "mimetype": "text/x-python",
   "name": "python",
   "nbconvert_exporter": "python",
   "pygments_lexer": "ipython3",
   "version": "3.8.5"
  },
  "latex_envs": {
   "LaTeX_envs_menu_present": true,
   "autoclose": true,
   "autocomplete": true,
   "bibliofile": "biblio.bib",
   "cite_by": "apalike",
   "current_citInitial": 1,
   "eqLabelWithNumbers": true,
   "eqNumInitial": 1,
   "hotkeys": {
    "equation": "Ctrl-E",
    "itemize": "Ctrl-I"
   },
   "labels_anchors": false,
   "latex_user_defs": false,
   "report_style_numbering": false,
   "user_envs_cfg": false
  },
  "toc": {
   "base_numbering": 1,
   "nav_menu": {},
   "number_sections": true,
   "sideBar": true,
   "skip_h1_title": false,
   "title_cell": "Table of Contents",
   "title_sidebar": "Contents",
   "toc_cell": false,
   "toc_position": {},
   "toc_section_display": true,
   "toc_window_display": false
  }
 },
 "nbformat": 4,
 "nbformat_minor": 4
}
