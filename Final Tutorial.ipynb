{
 "cells": [
  {
   "cell_type": "code",
   "execution_count": 231,
   "metadata": {},
   "outputs": [
    {
     "data": {
      "text/html": [
       "<style>.container { width:95% !important; }</style>"
      ],
      "text/plain": [
       "<IPython.core.display.HTML object>"
      ]
     },
     "metadata": {},
     "output_type": "display_data"
    }
   ],
   "source": [
    "from IPython.core.display import display, HTML\n",
    "display(HTML(\"<style>.container { width:95% !important; }</style>\"))"
   ]
  },
  {
   "cell_type": "markdown",
   "metadata": {},
   "source": [
    "# Import"
   ]
  },
  {
   "cell_type": "code",
   "execution_count": null,
   "metadata": {},
   "outputs": [],
   "source": [
    "pip install numpy"
   ]
  },
  {
   "cell_type": "code",
   "execution_count": null,
   "metadata": {},
   "outputs": [],
   "source": [
    "pip install pandas"
   ]
  },
  {
   "cell_type": "code",
   "execution_count": null,
   "metadata": {},
   "outputs": [],
   "source": [
    "pip install bs4"
   ]
  },
  {
   "cell_type": "code",
   "execution_count": null,
   "metadata": {},
   "outputs": [],
   "source": [
    "pip install requests"
   ]
  },
  {
   "cell_type": "code",
   "execution_count": null,
   "metadata": {},
   "outputs": [],
   "source": [
    "pip install nltk"
   ]
  },
  {
   "cell_type": "markdown",
   "metadata": {},
   "source": [
    "# Jupyter notebooks\n",
    "\n",
    "* This is a Jupyter notebook!\n",
    "* Interactive. Popular in data science\n",
    "* Used with Python, R, Julia.\n",
    "* Mine looks slightly different\n",
    "* Command vs. Edit mode\n",
    "* Blocks are called \"cells\".\n",
    "    * Run cells: ctrl/cmd + enter/return\n",
    "    * New cells above: ctrl/cmd + a \n",
    "    * Code vs. md.\n",
    "* Is it running?"
   ]
  },
  {
   "cell_type": "markdown",
   "metadata": {},
   "source": [
    "# Ethics Of Web-Scraping"
   ]
  },
  {
   "cell_type": "markdown",
   "metadata": {},
   "source": [
    "* Am I allowed to access this data? \n",
    "    * https://www.chefknivestogo.com/robots.txt\n",
    "* Can the site handle my requests?\n",
    "    * https://www.nrcs.usda.gov/robots.txt\n",
    "* Can I use it in my research? What can I use it for?\n",
    "    * https://meta.wikimedia.org/wiki/Terms_of_use"
   ]
  },
  {
   "cell_type": "markdown",
   "metadata": {},
   "source": [
    "# Background: Functions, Data Types, and Pandas"
   ]
  },
  {
   "cell_type": "markdown",
   "metadata": {},
   "source": [
    "## Data Types"
   ]
  },
  {
   "cell_type": "markdown",
   "metadata": {},
   "source": [
    "### int (integer)"
   ]
  },
  {
   "cell_type": "code",
   "execution_count": 1,
   "metadata": {},
   "outputs": [
    {
     "data": {
      "text/plain": [
       "int"
      ]
     },
     "execution_count": 1,
     "metadata": {},
     "output_type": "execute_result"
    }
   ],
   "source": [
    "type(5)"
   ]
  },
  {
   "cell_type": "markdown",
   "metadata": {},
   "source": [
    "### float (number with decimal point)"
   ]
  },
  {
   "cell_type": "code",
   "execution_count": 3,
   "metadata": {},
   "outputs": [
    {
     "data": {
      "text/plain": [
       "float"
      ]
     },
     "execution_count": 3,
     "metadata": {},
     "output_type": "execute_result"
    }
   ],
   "source": [
    "type(5.0)"
   ]
  },
  {
   "cell_type": "markdown",
   "metadata": {},
   "source": [
    "### bool (True/False)"
   ]
  },
  {
   "cell_type": "code",
   "execution_count": 5,
   "metadata": {},
   "outputs": [
    {
     "name": "stdout",
     "output_type": "stream",
     "text": [
      "<class 'bool'>\n",
      "2\n",
      "0\n"
     ]
    }
   ],
   "source": [
    "print(type(True))\n",
    "\n",
    "# bools can act as ones (True) and zeros (False)\n",
    "print(True + True)\n",
    "\n",
    "print(False + False)"
   ]
  },
  {
   "cell_type": "markdown",
   "metadata": {},
   "source": [
    "### str (characters)"
   ]
  },
  {
   "cell_type": "code",
   "execution_count": 9,
   "metadata": {
    "scrolled": true
   },
   "outputs": [
    {
     "name": "stdout",
     "output_type": "stream",
     "text": [
      "['a', 'string']\n"
     ]
    }
   ],
   "source": [
    "print(type('a string'))\n",
    "\n",
    "test_str = 'a string'\n",
    "\n",
    "print(len(test_str))\n",
    "\n",
    "print(test_str.split())"
   ]
  },
  {
   "cell_type": "markdown",
   "metadata": {},
   "source": [
    "### list\n",
    "\n",
    "* Store multiple items (elements) in a single variable, e.g., three integers (ints). \n",
    "* Elements are separated by commas.\n",
    "\n",
    "**Note that indices start at 0 in Python!**"
   ]
  },
  {
   "cell_type": "code",
   "execution_count": 7,
   "metadata": {
    "scrolled": true
   },
   "outputs": [
    {
     "name": "stdout",
     "output_type": "stream",
     "text": [
      "[0, 1, 2]\n"
     ]
    }
   ],
   "source": [
    "# initialize a list\n",
    "test_list = [0, 1, 2]\n",
    "\n",
    "# print the list\n",
    "print(test_list)"
   ]
  },
  {
   "cell_type": "code",
   "execution_count": 8,
   "metadata": {},
   "outputs": [
    {
     "name": "stdout",
     "output_type": "stream",
     "text": [
      "0\n"
     ]
    }
   ],
   "source": [
    "# print the 0th element\n",
    "print(test_list[0])"
   ]
  },
  {
   "cell_type": "code",
   "execution_count": 9,
   "metadata": {},
   "outputs": [
    {
     "data": {
      "text/plain": [
       "3"
      ]
     },
     "execution_count": 9,
     "metadata": {},
     "output_type": "execute_result"
    }
   ],
   "source": [
    "# get the length of the list (number of elements in it)\n",
    "len(test_list)"
   ]
  },
  {
   "cell_type": "code",
   "execution_count": 10,
   "metadata": {},
   "outputs": [],
   "source": [
    "# lists can have mixed datatypes (pretty much anything can be put in a list)\n",
    "test_list_2 = ['a', 2, [4,5]]"
   ]
  },
  {
   "cell_type": "code",
   "execution_count": 14,
   "metadata": {},
   "outputs": [
    {
     "data": {
      "text/plain": [
       "[0, 1, 2, 'a', 2, [4, 5]]"
      ]
     },
     "execution_count": 14,
     "metadata": {},
     "output_type": "execute_result"
    }
   ],
   "source": [
    "# add two lists together\n",
    "# technically, this is called \"concattenating\" the first and second lists\n",
    "\n",
    "print(test_list + test_list_2)"
   ]
  },
  {
   "cell_type": "code",
   "execution_count": 11,
   "metadata": {},
   "outputs": [
    {
     "name": "stdout",
     "output_type": "stream",
     "text": [
      "[0, 1, 2]\n",
      "[5, 6, 7]\n",
      "[5, 6, 7]\n",
      "[5, 6]\n"
     ]
    }
   ],
   "source": [
    "# list comprehension is an easy way to modify and/or filter lists\n",
    "# GENERAL SYNTAX: \n",
    "    # new_list = [x for x in old_list]\n",
    "\n",
    "# use list comprehension to recreate the same list (just to show how it works)\n",
    "print([y for y in test_list])\n",
    "\n",
    "# use list comprehension to add five to each element\n",
    "print([x+5 for x in test_list])\n",
    "\n",
    "# use list comprehension to add five to each element - using our predefined FUNCTION\n",
    "print([add_five(elmnt) for elmnt in test_list])\n",
    "\n",
    "# use list comprehension to add five to each element, AND filter them\n",
    "print([x+5 for x in test_list if (x==0 or x==1)])"
   ]
  },
  {
   "cell_type": "markdown",
   "metadata": {},
   "source": [
    "### Dict (dictionary)\n",
    "\n",
    "A dictionary is a correspondence of key:value pairings which allow you to look up values from keys!"
   ]
  },
  {
   "cell_type": "code",
   "execution_count": 19,
   "metadata": {},
   "outputs": [],
   "source": [
    "# initialize a dictionary. Keys and values can be basically any datatype ()\n",
    "test_dict = {'key1':'value1', 2:'value2'}"
   ]
  },
  {
   "cell_type": "code",
   "execution_count": 20,
   "metadata": {},
   "outputs": [
    {
     "name": "stdout",
     "output_type": "stream",
     "text": [
      "{'key1': 'value1', 2: 'value2'}\n"
     ]
    }
   ],
   "source": [
    "# look up first value via key\n",
    "print(test_dict['key1'])"
   ]
  },
  {
   "cell_type": "code",
   "execution_count": 22,
   "metadata": {},
   "outputs": [
    {
     "ename": "KeyError",
     "evalue": "'value1'",
     "output_type": "error",
     "traceback": [
      "\u001b[1;31m---------------------------------------------------------------------------\u001b[0m",
      "\u001b[1;31mKeyError\u001b[0m                                  Traceback (most recent call last)",
      "\u001b[1;32m<ipython-input-22-eee0f9c7ff7d>\u001b[0m in \u001b[0;36m<module>\u001b[1;34m\u001b[0m\n\u001b[1;32m----> 1\u001b[1;33m \u001b[0mtest_dict\u001b[0m\u001b[1;33m[\u001b[0m\u001b[1;34m'value1'\u001b[0m\u001b[1;33m]\u001b[0m\u001b[1;33m\u001b[0m\u001b[1;33m\u001b[0m\u001b[0m\n\u001b[0m",
      "\u001b[1;31mKeyError\u001b[0m: 'value1'"
     ]
    }
   ],
   "source": [
    "test_dict['value1']"
   ]
  },
  {
   "cell_type": "markdown",
   "metadata": {},
   "source": [
    "## Functions"
   ]
  },
  {
   "cell_type": "code",
   "execution_count": 23,
   "metadata": {},
   "outputs": [],
   "source": [
    "def add_five(number):\n",
    "    return number + 5"
   ]
  },
  {
   "cell_type": "code",
   "execution_count": 24,
   "metadata": {},
   "outputs": [
    {
     "data": {
      "text/plain": [
       "15"
      ]
     },
     "execution_count": 24,
     "metadata": {},
     "output_type": "execute_result"
    }
   ],
   "source": [
    "add_five(10)"
   ]
  },
  {
   "cell_type": "code",
   "execution_count": 26,
   "metadata": {},
   "outputs": [
    {
     "name": "stdout",
     "output_type": "stream",
     "text": [
      "[0, 1, 2]\n",
      "[5, 6, 7]\n"
     ]
    }
   ],
   "source": [
    "new_list = [add_five(x) for x in test_list]\n",
    "\n",
    "print(test_list)\n",
    "print(new_list)"
   ]
  },
  {
   "cell_type": "markdown",
   "metadata": {},
   "source": [
    "## Pandas\n",
    "\n",
    "https://pandas.pydata.org/pandas-docs/stable/index.html"
   ]
  },
  {
   "cell_type": "markdown",
   "metadata": {},
   "source": [
    "### DataFrame"
   ]
  },
  {
   "cell_type": "code",
   "execution_count": 29,
   "metadata": {},
   "outputs": [],
   "source": [
    "test_dict = {'col1':[1,2,3], 'col2':[4,5,6]}\n",
    "\n",
    "test_df = pd.DataFrame(test_dict)"
   ]
  },
  {
   "cell_type": "code",
   "execution_count": 32,
   "metadata": {},
   "outputs": [
    {
     "data": {
      "text/html": [
       "<div>\n",
       "<style scoped>\n",
       "    .dataframe tbody tr th:only-of-type {\n",
       "        vertical-align: middle;\n",
       "    }\n",
       "\n",
       "    .dataframe tbody tr th {\n",
       "        vertical-align: top;\n",
       "    }\n",
       "\n",
       "    .dataframe thead th {\n",
       "        text-align: right;\n",
       "    }\n",
       "</style>\n",
       "<table border=\"1\" class=\"dataframe\">\n",
       "  <thead>\n",
       "    <tr style=\"text-align: right;\">\n",
       "      <th></th>\n",
       "      <th>col1</th>\n",
       "      <th>col2</th>\n",
       "    </tr>\n",
       "  </thead>\n",
       "  <tbody>\n",
       "    <tr>\n",
       "      <th>0</th>\n",
       "      <td>1</td>\n",
       "      <td>4</td>\n",
       "    </tr>\n",
       "    <tr>\n",
       "      <th>1</th>\n",
       "      <td>2</td>\n",
       "      <td>5</td>\n",
       "    </tr>\n",
       "    <tr>\n",
       "      <th>2</th>\n",
       "      <td>3</td>\n",
       "      <td>6</td>\n",
       "    </tr>\n",
       "  </tbody>\n",
       "</table>\n",
       "</div>"
      ],
      "text/plain": [
       "   col1  col2\n",
       "0     1     4\n",
       "1     2     5\n",
       "2     3     6"
      ]
     },
     "execution_count": 32,
     "metadata": {},
     "output_type": "execute_result"
    }
   ],
   "source": [
    "test_df"
   ]
  },
  {
   "cell_type": "code",
   "execution_count": 33,
   "metadata": {},
   "outputs": [
    {
     "data": {
      "text/plain": [
       "0    1\n",
       "1    2\n",
       "2    3\n",
       "Name: col1, dtype: int64"
      ]
     },
     "execution_count": 33,
     "metadata": {},
     "output_type": "execute_result"
    }
   ],
   "source": [
    "test_df['col1']"
   ]
  },
  {
   "cell_type": "code",
   "execution_count": 34,
   "metadata": {},
   "outputs": [
    {
     "data": {
      "text/plain": [
       "col1    1\n",
       "col2    4\n",
       "Name: 0, dtype: int64"
      ]
     },
     "execution_count": 34,
     "metadata": {},
     "output_type": "execute_result"
    }
   ],
   "source": [
    "test_df.iloc[0]"
   ]
  },
  {
   "cell_type": "code",
   "execution_count": 36,
   "metadata": {},
   "outputs": [],
   "source": [
    "test_df['new col1'] = test_df['col1'].apply(add_five)"
   ]
  },
  {
   "cell_type": "code",
   "execution_count": 37,
   "metadata": {},
   "outputs": [
    {
     "data": {
      "text/html": [
       "<div>\n",
       "<style scoped>\n",
       "    .dataframe tbody tr th:only-of-type {\n",
       "        vertical-align: middle;\n",
       "    }\n",
       "\n",
       "    .dataframe tbody tr th {\n",
       "        vertical-align: top;\n",
       "    }\n",
       "\n",
       "    .dataframe thead th {\n",
       "        text-align: right;\n",
       "    }\n",
       "</style>\n",
       "<table border=\"1\" class=\"dataframe\">\n",
       "  <thead>\n",
       "    <tr style=\"text-align: right;\">\n",
       "      <th></th>\n",
       "      <th>col1</th>\n",
       "      <th>col2</th>\n",
       "      <th>new col1</th>\n",
       "    </tr>\n",
       "  </thead>\n",
       "  <tbody>\n",
       "    <tr>\n",
       "      <th>0</th>\n",
       "      <td>1</td>\n",
       "      <td>4</td>\n",
       "      <td>6</td>\n",
       "    </tr>\n",
       "    <tr>\n",
       "      <th>1</th>\n",
       "      <td>2</td>\n",
       "      <td>5</td>\n",
       "      <td>7</td>\n",
       "    </tr>\n",
       "    <tr>\n",
       "      <th>2</th>\n",
       "      <td>3</td>\n",
       "      <td>6</td>\n",
       "      <td>8</td>\n",
       "    </tr>\n",
       "  </tbody>\n",
       "</table>\n",
       "</div>"
      ],
      "text/plain": [
       "   col1  col2  new col1\n",
       "0     1     4         6\n",
       "1     2     5         7\n",
       "2     3     6         8"
      ]
     },
     "execution_count": 37,
     "metadata": {},
     "output_type": "execute_result"
    }
   ],
   "source": [
    "test_df"
   ]
  },
  {
   "cell_type": "code",
   "execution_count": null,
   "metadata": {},
   "outputs": [],
   "source": []
  },
  {
   "cell_type": "markdown",
   "metadata": {},
   "source": [
    "## Functions\n",
    "\n",
    "A function is a block of reusable code that can be used repeatedly to perform a\n",
    "single action."
   ]
  },
  {
   "cell_type": "code",
   "execution_count": 2,
   "metadata": {},
   "outputs": [],
   "source": [
    "# define a function to add five to a number\n",
    "def add_five(number):\n",
    "    return number + 5"
   ]
  },
  {
   "cell_type": "code",
   "execution_count": 3,
   "metadata": {},
   "outputs": [
    {
     "data": {
      "text/plain": [
       "15"
      ]
     },
     "execution_count": 3,
     "metadata": {},
     "output_type": "execute_result"
    }
   ],
   "source": [
    "# apply our function\n",
    "add_five(10)"
   ]
  },
  {
   "cell_type": "markdown",
   "metadata": {},
   "source": [
    "## Data Types"
   ]
  },
  {
   "cell_type": "markdown",
   "metadata": {},
   "source": [
    "# Web Scraping"
   ]
  },
  {
   "cell_type": "markdown",
   "metadata": {},
   "source": [
    "## Import Necessary packages\n",
    "\n",
    "Earlier, we *installed* the necessary packages with the \"pip install [package]\" commands\n",
    "\n",
    "Now, we *import* the packages so we can use them"
   ]
  },
  {
   "cell_type": "code",
   "execution_count": 4,
   "metadata": {},
   "outputs": [],
   "source": [
    "import numpy as np\n",
    "import pandas as pd\n",
    "from bs4 import BeautifulSoup\n",
    "import requests\n",
    "import nltk\n",
    "\n",
    "# import time\n",
    "\n"
   ]
  },
  {
   "cell_type": "markdown",
   "metadata": {},
   "source": [
    "## pd.read_html() - USDA FIPS\n",
    "\n",
    "* URL\n",
    "    * https://www.nrcs.usda.gov/wps/portal/nrcs/detail/national/home/?cid=nrcs143_013697\n",
    "* .\n",
    "    *  "
   ]
  },
  {
   "cell_type": "code",
   "execution_count": null,
   "metadata": {},
   "outputs": [],
   "source": [
    "# import data from USDA. Output is a LIST of tables\n",
    "usda_fips_page = pd.read_html(\"https://www.nrcs.usda.gov/wps/portal/nrcs/detail/national/home/?cid=nrcs143_013697\")"
   ]
  },
  {
   "cell_type": "code",
   "execution_count": null,
   "metadata": {
    "scrolled": true
   },
   "outputs": [],
   "source": [
    "# print output to see what we have...\n",
    "usda_fips_page"
   ]
  },
  {
   "cell_type": "code",
   "execution_count": null,
   "metadata": {},
   "outputs": [],
   "source": [
    "# Strange output!\n",
    "usda_fips_page[0]"
   ]
  },
  {
   "cell_type": "code",
   "execution_count": null,
   "metadata": {},
   "outputs": [],
   "source": [
    "# looks like the first few dataframes are identical... this is strange but we only need one so it isn't a problem!\n",
    "usda_fips_page[1]"
   ]
  },
  {
   "cell_type": "code",
   "execution_count": null,
   "metadata": {},
   "outputs": [],
   "source": [
    "# make variable for fips table we want\n",
    "usda_fips = usda_fips_page[0]"
   ]
  },
  {
   "cell_type": "code",
   "execution_count": null,
   "metadata": {},
   "outputs": [],
   "source": [
    "# let's examine the dataframe more closely to make sure everything is correct\n",
    "\n",
    "# change display options to show all rows\n",
    "pd.set_option('display.max_rows', None)\n",
    "\n",
    "usda_fips"
   ]
  },
  {
   "cell_type": "code",
   "execution_count": null,
   "metadata": {},
   "outputs": [],
   "source": [
    "# it looks like the last row is the only incorrect one, so let's delete it\n",
    "usda_fips.tail()"
   ]
  },
  {
   "cell_type": "code",
   "execution_count": null,
   "metadata": {},
   "outputs": [],
   "source": [
    "# Let's confirm there are no other rows we need to drop. Check for nan values in any col pt. 1\n",
    "usda_fips.isnull()"
   ]
  },
  {
   "cell_type": "code",
   "execution_count": null,
   "metadata": {},
   "outputs": [],
   "source": [
    "# Check for nan values in any col pt. 2\n",
    "usda_fips.isnull().sum()"
   ]
  },
  {
   "cell_type": "code",
   "execution_count": null,
   "metadata": {},
   "outputs": [],
   "source": [
    "# drop the last row\n",
    "\n",
    "# this is the output we want\n",
    "usda_fips.drop(3232)\n",
    "\n",
    "# now replace the existing \"usda_fips\" dataframe with the version missing the last row (inplace=True)\n",
    "usda_fips.drop(3232, inplace=True)"
   ]
  },
  {
   "cell_type": "markdown",
   "metadata": {
    "heading_collapsed": true
   },
   "source": [
    "## pd.read_html() -  FIPS"
   ]
  },
  {
   "cell_type": "code",
   "execution_count": null,
   "metadata": {
    "hidden": true
   },
   "outputs": [],
   "source": [
    "# import data from wikipedia. Again, output is a LIST of tables\n",
    "fips_page = pd.read_html(\"https://en.wikipedia.org/wiki/List_of_United_States_FIPS_codes_by_county\")"
   ]
  },
  {
   "cell_type": "code",
   "execution_count": null,
   "metadata": {
    "hidden": true,
    "scrolled": true
   },
   "outputs": [],
   "source": [
    "# let's print the output and take a look...\n",
    "fips_page"
   ]
  },
  {
   "cell_type": "code",
   "execution_count": null,
   "metadata": {
    "hidden": true
   },
   "outputs": [],
   "source": [
    "# first element?\n",
    "fips_page[0]"
   ]
  },
  {
   "cell_type": "code",
   "execution_count": null,
   "metadata": {
    "hidden": true
   },
   "outputs": [],
   "source": [
    "fips_page[1]"
   ]
  },
  {
   "cell_type": "code",
   "execution_count": null,
   "metadata": {
    "hidden": true
   },
   "outputs": [],
   "source": [
    "# we want the 2nd table (recall: indices start at 0)\n",
    "fips = fips_page[1]\n",
    "\n",
    "# remove all hyperlinks (these look like \"... County [h]\", etc.)\n",
    "fips['County or equivalent'] = fips['County or equivalent'].str.replace(r\"\\[.*\\]\",\"\")\n",
    "\n",
    "# convert to uppercase\n",
    "fips['County or equivalent'] = fips['County or equivalent'].apply(lambda x: x.upper())\n",
    "fips['State or equivalent'] = fips['State or equivalent'].apply(lambda x: x.upper())\n",
    "\n",
    "# replace \"St.\" with \"Saint\"\n",
    "fips['County or equivalent'] = [x.replace('ST.','SAINT') for x in fips['County or equivalent']]\n",
    "\n",
    "# remove everything after a comma in a county name (e.g. \"ANCHORAGE, MUNICIPALITY OF\")\n",
    "fips['County or equivalent'] = [x.split(',')[0] for x in fips['County or equivalent']]\n",
    "\n",
    "# replace DC info to correspond to GeoCov19 format\n",
    "dc_loc = fips[fips['County or equivalent']=='DISTRICT OF COLUMBIA'].index.tolist()[0]\n",
    "fips['State or equivalent'].loc[dc_loc] = 'WASHINGTON, D.C.'\n",
    "fips['County or equivalent'].loc[dc_loc] = 'WASHINGTON'\n",
    "\n",
    "############################################################################################\n",
    "\n",
    "# Save FIPS dataframe to file\n",
    "\n",
    "FIPS_SAVE_PATH = \n",
    "\n",
    "fips.to_csv(FIPS_SAVE_PATH, index=False)"
   ]
  },
  {
   "cell_type": "markdown",
   "metadata": {},
   "source": [
    "## Request  + BeautifulSoup\n",
    "\n",
    " Red-bellied Snake (Wikipedia) Text Analysis"
   ]
  },
  {
   "cell_type": "markdown",
   "metadata": {},
   "source": [
    "### Red-bellied Snake (Wikipedia) Text Analysis\n",
    "\n",
    "Hypothetical: we want to get a list of all words, and their frequency, from this wikipedia page"
   ]
  },
  {
   "cell_type": "code",
   "execution_count": null,
   "metadata": {},
   "outputs": [],
   "source": [
    "# use requests to get URL\n",
    "wiki_snake_url = \"https://en.wikipedia.org/wiki/Red-bellied_black_snake\"\n",
    "wiki_snake_response = requests.get(wiki_snake_url)\n",
    "\n",
    "# it prints \"200\" if the page was successfully downloaded!\n",
    "print(wiki_snake_response)"
   ]
  },
  {
   "cell_type": "code",
   "execution_count": null,
   "metadata": {},
   "outputs": [],
   "source": [
    "#let's examine the output... which turns out to be a mess (this is where BeautifulSoup comes in handy)\n",
    "wiki_snake_response.text"
   ]
  },
  {
   "cell_type": "code",
   "execution_count": null,
   "metadata": {},
   "outputs": [],
   "source": [
    "# use BeautifulSoup's html parser to convert the html document into a BeautifulSoup object\n",
    "wiki_snake_soup = BeautifulSoup(wiki_snake_response.text, 'html.parser')\n",
    "\n",
    "# BeautifulSoup gives us a more readable format (barely - it doesn't make a huge difference in this example)\n",
    "wiki_snake_soup.prettify()"
   ]
  },
  {
   "cell_type": "code",
   "execution_count": null,
   "metadata": {},
   "outputs": [],
   "source": [
    "# we need to display the text! Let's get all elements with a \"p\" (paragraph) tag \n",
    "\n",
    "# print([paragraph.text for paragraph in wiki_snake_soup.find_all('p')])\n",
    "\n",
    "# this shows us all html with a \"p\" tag (paragraphs), but we just want the text\n",
    "for paragraph in wiki_snake_soup.find_all('p'):\n",
    "    print(paragraph)"
   ]
  },
  {
   "cell_type": "code",
   "execution_count": null,
   "metadata": {},
   "outputs": [],
   "source": [
    "# here is how we display the pure text\n",
    "\n",
    "for paragraph in wiki_snake_soup.find_all('p'):\n",
    "    print(paragraph.text)\n",
    "    "
   ]
  },
  {
   "cell_type": "code",
   "execution_count": null,
   "metadata": {},
   "outputs": [],
   "source": [
    "# we're almost there, we just need to combine this output (we'll use list comprehension)\n",
    "\n",
    "wiki_snake_text = ' '.join([paragraph.text for paragraph in wiki_snake_soup.find_all('p')])\n",
    "\n",
    "wiki_snake_text\n",
    "#[paragraph.text for paragraph in wiki_snake_soup.find_all('p')] is a list!\n",
    "\n",
    "# #this is equivalent to the following code which some might find more familiar:\n",
    "# wiki_snake_text_list = []\n",
    "\n",
    "# for paragraph in wiki_snake_soup.find_all('p'):\n",
    "#     wiki_snake_text_list.append(paragraph)\n",
    "    \n",
    "# wiki_snake_text = ' '.join(wiki_snake_text)"
   ]
  },
  {
   "cell_type": "code",
   "execution_count": null,
   "metadata": {
    "scrolled": true
   },
   "outputs": [],
   "source": [
    "# ' '.join(wiki_snake_text.split())"
   ]
  },
  {
   "cell_type": "code",
   "execution_count": null,
   "metadata": {},
   "outputs": [],
   "source": [
    "# now let's count occurences of each word\n",
    "# import nltk\n",
    "\n",
    "nltk.FreqDist(wiki_snake_text)"
   ]
  },
  {
   "cell_type": "code",
   "execution_count": null,
   "metadata": {},
   "outputs": [],
   "source": [
    "# looks like we need to split the text first:\n",
    "split_wiki_snake_text = wiki_snake_text.split()"
   ]
  },
  {
   "cell_type": "code",
   "execution_count": null,
   "metadata": {},
   "outputs": [],
   "source": [
    "wiki_snake_word_freqs = nltk.FreqDist(split_wiki_snake_text)"
   ]
  },
  {
   "cell_type": "code",
   "execution_count": null,
   "metadata": {},
   "outputs": [],
   "source": [
    "wiki_snake_word_freqs"
   ]
  },
  {
   "cell_type": "code",
   "execution_count": null,
   "metadata": {},
   "outputs": [],
   "source": [
    "wiki_snake_output = pd.DataFrame({'Word': wiki_snake_word_freqs.keys(), 'Frequency': wiki_snake_word_freqs.values()})"
   ]
  },
  {
   "cell_type": "code",
   "execution_count": null,
   "metadata": {},
   "outputs": [],
   "source": [
    "wiki_snake_output"
   ]
  },
  {
   "cell_type": "code",
   "execution_count": null,
   "metadata": {},
   "outputs": [],
   "source": [
    "wiki_snake_output.sort_values('Frequency', ascending=False, inplace=True)"
   ]
  },
  {
   "cell_type": "code",
   "execution_count": null,
   "metadata": {},
   "outputs": [],
   "source": [
    "wiki_snake_num_words = wiki_snake_output['Frequency'].sum()"
   ]
  },
  {
   "cell_type": "code",
   "execution_count": null,
   "metadata": {},
   "outputs": [],
   "source": [
    "wiki_snake_output['% Freq'] = (wiki_snake_output['Frequency'] / wiki_snake_num_words) * 100"
   ]
  },
  {
   "cell_type": "code",
   "execution_count": null,
   "metadata": {},
   "outputs": [],
   "source": [
    "wiki_snake_output"
   ]
  },
  {
   "cell_type": "code",
   "execution_count": null,
   "metadata": {},
   "outputs": [],
   "source": [
    "wiki_snake_output.to_csv(\"Red Bellied Snake Words & Frequencies.csv\")"
   ]
  },
  {
   "cell_type": "markdown",
   "metadata": {},
   "source": [
    "## Request  + BeautifulSoup - lichess.org user stats\n",
    "\n",
    "Let's get the information of every top \"bullet\" chess player\n",
    "\n",
    "Our approach:\n",
    "* Get the list of top bullet players\n",
    "    * Listed at https://lichess.org/player/top/200/bullet\n",
    "* Go to each player's account\n",
    "    * Account page URLs have the following structure: \"https://lichess.org/@/\" + username\n",
    "* Get the information we need and compile it into a pandas DataFrame\n",
    "    * Do this by writing several functions to get specific pieces of information\n",
    "    \n",
    "* Save the dataframe as a .csv file"
   ]
  },
  {
   "cell_type": "code",
   "execution_count": 164,
   "metadata": {},
   "outputs": [
    {
     "data": {
      "text/plain": [
       "[       0                     1     2     3\n",
       " 0      1     GM nihalsarin2004  3101  25.0\n",
       " 1      2         GM C9C9C9C9C9  3068  21.0\n",
       " 2      3    GM Zhigalko_Sergei  3051  26.0\n",
       " 3      4           GM muisback  3018  15.0\n",
       " 4      5             GM Arka50  3016  29.0\n",
       " ..   ...                   ...   ...   ...\n",
       " 195  196         GM elshan1985  2780  28.0\n",
       " 196  197  GM tornike_sanikidze  2780  17.0\n",
       " 197  198        Hellblazer2007  2780  30.0\n",
       " 198  199             Likonendy  2779   3.0\n",
       " 199  200           FM Kaldas90  2778   2.0\n",
       " \n",
       " [200 rows x 4 columns]]"
      ]
     },
     "execution_count": 164,
     "metadata": {},
     "output_type": "execute_result"
    }
   ],
   "source": [
    "# here are the top bullet players: https://lichess.org/player/top/200/bullet\n",
    "\n",
    "# scrape this table!\n",
    "players_df_list = pd.read_html(\"https://lichess.org/player/top/200/bullet\")\n",
    "\n",
    "# let's see the output:\n",
    "players_df_list"
   ]
  },
  {
   "cell_type": "code",
   "execution_count": 165,
   "metadata": {},
   "outputs": [],
   "source": [
    "# looks like we only need/want the first dataframe in this list (turns out there's only one anyway)\n",
    "players_df = players_df_list[0]\n",
    "\n",
    "del players_df_list"
   ]
  },
  {
   "cell_type": "code",
   "execution_count": 166,
   "metadata": {},
   "outputs": [
    {
     "data": {
      "text/html": [
       "<div>\n",
       "<style scoped>\n",
       "    .dataframe tbody tr th:only-of-type {\n",
       "        vertical-align: middle;\n",
       "    }\n",
       "\n",
       "    .dataframe tbody tr th {\n",
       "        vertical-align: top;\n",
       "    }\n",
       "\n",
       "    .dataframe thead th {\n",
       "        text-align: right;\n",
       "    }\n",
       "</style>\n",
       "<table border=\"1\" class=\"dataframe\">\n",
       "  <thead>\n",
       "    <tr style=\"text-align: right;\">\n",
       "      <th></th>\n",
       "      <th>0</th>\n",
       "      <th>1</th>\n",
       "      <th>2</th>\n",
       "      <th>3</th>\n",
       "    </tr>\n",
       "  </thead>\n",
       "  <tbody>\n",
       "    <tr>\n",
       "      <th>0</th>\n",
       "      <td>1</td>\n",
       "      <td>GM nihalsarin2004</td>\n",
       "      <td>3101</td>\n",
       "      <td>25.0</td>\n",
       "    </tr>\n",
       "    <tr>\n",
       "      <th>1</th>\n",
       "      <td>2</td>\n",
       "      <td>GM C9C9C9C9C9</td>\n",
       "      <td>3068</td>\n",
       "      <td>21.0</td>\n",
       "    </tr>\n",
       "    <tr>\n",
       "      <th>2</th>\n",
       "      <td>3</td>\n",
       "      <td>GM Zhigalko_Sergei</td>\n",
       "      <td>3051</td>\n",
       "      <td>26.0</td>\n",
       "    </tr>\n",
       "    <tr>\n",
       "      <th>3</th>\n",
       "      <td>4</td>\n",
       "      <td>GM muisback</td>\n",
       "      <td>3018</td>\n",
       "      <td>15.0</td>\n",
       "    </tr>\n",
       "    <tr>\n",
       "      <th>4</th>\n",
       "      <td>5</td>\n",
       "      <td>GM Arka50</td>\n",
       "      <td>3016</td>\n",
       "      <td>29.0</td>\n",
       "    </tr>\n",
       "    <tr>\n",
       "      <th>...</th>\n",
       "      <td>...</td>\n",
       "      <td>...</td>\n",
       "      <td>...</td>\n",
       "      <td>...</td>\n",
       "    </tr>\n",
       "    <tr>\n",
       "      <th>195</th>\n",
       "      <td>196</td>\n",
       "      <td>GM elshan1985</td>\n",
       "      <td>2780</td>\n",
       "      <td>28.0</td>\n",
       "    </tr>\n",
       "    <tr>\n",
       "      <th>196</th>\n",
       "      <td>197</td>\n",
       "      <td>GM tornike_sanikidze</td>\n",
       "      <td>2780</td>\n",
       "      <td>17.0</td>\n",
       "    </tr>\n",
       "    <tr>\n",
       "      <th>197</th>\n",
       "      <td>198</td>\n",
       "      <td>Hellblazer2007</td>\n",
       "      <td>2780</td>\n",
       "      <td>30.0</td>\n",
       "    </tr>\n",
       "    <tr>\n",
       "      <th>198</th>\n",
       "      <td>199</td>\n",
       "      <td>Likonendy</td>\n",
       "      <td>2779</td>\n",
       "      <td>3.0</td>\n",
       "    </tr>\n",
       "    <tr>\n",
       "      <th>199</th>\n",
       "      <td>200</td>\n",
       "      <td>FM Kaldas90</td>\n",
       "      <td>2778</td>\n",
       "      <td>2.0</td>\n",
       "    </tr>\n",
       "  </tbody>\n",
       "</table>\n",
       "<p>200 rows × 4 columns</p>\n",
       "</div>"
      ],
      "text/plain": [
       "       0                     1     2     3\n",
       "0      1     GM nihalsarin2004  3101  25.0\n",
       "1      2         GM C9C9C9C9C9  3068  21.0\n",
       "2      3    GM Zhigalko_Sergei  3051  26.0\n",
       "3      4           GM muisback  3018  15.0\n",
       "4      5             GM Arka50  3016  29.0\n",
       "..   ...                   ...   ...   ...\n",
       "195  196         GM elshan1985  2780  28.0\n",
       "196  197  GM tornike_sanikidze  2780  17.0\n",
       "197  198        Hellblazer2007  2780  30.0\n",
       "198  199             Likonendy  2779   3.0\n",
       "199  200           FM Kaldas90  2778   2.0\n",
       "\n",
       "[200 rows x 4 columns]"
      ]
     },
     "execution_count": 166,
     "metadata": {},
     "output_type": "execute_result"
    }
   ],
   "source": [
    "players_df"
   ]
  },
  {
   "cell_type": "code",
   "execution_count": 167,
   "metadata": {},
   "outputs": [
    {
     "data": {
      "text/html": [
       "<div>\n",
       "<style scoped>\n",
       "    .dataframe tbody tr th:only-of-type {\n",
       "        vertical-align: middle;\n",
       "    }\n",
       "\n",
       "    .dataframe tbody tr th {\n",
       "        vertical-align: top;\n",
       "    }\n",
       "\n",
       "    .dataframe thead th {\n",
       "        text-align: right;\n",
       "    }\n",
       "</style>\n",
       "<table border=\"1\" class=\"dataframe\">\n",
       "  <thead>\n",
       "    <tr style=\"text-align: right;\">\n",
       "      <th></th>\n",
       "      <th>1</th>\n",
       "      <th>2</th>\n",
       "    </tr>\n",
       "  </thead>\n",
       "  <tbody>\n",
       "    <tr>\n",
       "      <th>0</th>\n",
       "      <td>GM nihalsarin2004</td>\n",
       "      <td>3101</td>\n",
       "    </tr>\n",
       "    <tr>\n",
       "      <th>1</th>\n",
       "      <td>GM C9C9C9C9C9</td>\n",
       "      <td>3068</td>\n",
       "    </tr>\n",
       "    <tr>\n",
       "      <th>2</th>\n",
       "      <td>GM Zhigalko_Sergei</td>\n",
       "      <td>3051</td>\n",
       "    </tr>\n",
       "    <tr>\n",
       "      <th>3</th>\n",
       "      <td>GM muisback</td>\n",
       "      <td>3018</td>\n",
       "    </tr>\n",
       "    <tr>\n",
       "      <th>4</th>\n",
       "      <td>GM Arka50</td>\n",
       "      <td>3016</td>\n",
       "    </tr>\n",
       "    <tr>\n",
       "      <th>...</th>\n",
       "      <td>...</td>\n",
       "      <td>...</td>\n",
       "    </tr>\n",
       "    <tr>\n",
       "      <th>195</th>\n",
       "      <td>GM elshan1985</td>\n",
       "      <td>2780</td>\n",
       "    </tr>\n",
       "    <tr>\n",
       "      <th>196</th>\n",
       "      <td>GM tornike_sanikidze</td>\n",
       "      <td>2780</td>\n",
       "    </tr>\n",
       "    <tr>\n",
       "      <th>197</th>\n",
       "      <td>Hellblazer2007</td>\n",
       "      <td>2780</td>\n",
       "    </tr>\n",
       "    <tr>\n",
       "      <th>198</th>\n",
       "      <td>Likonendy</td>\n",
       "      <td>2779</td>\n",
       "    </tr>\n",
       "    <tr>\n",
       "      <th>199</th>\n",
       "      <td>FM Kaldas90</td>\n",
       "      <td>2778</td>\n",
       "    </tr>\n",
       "  </tbody>\n",
       "</table>\n",
       "<p>200 rows × 2 columns</p>\n",
       "</div>"
      ],
      "text/plain": [
       "                        1     2\n",
       "0       GM nihalsarin2004  3101\n",
       "1           GM C9C9C9C9C9  3068\n",
       "2      GM Zhigalko_Sergei  3051\n",
       "3             GM muisback  3018\n",
       "4               GM Arka50  3016\n",
       "..                    ...   ...\n",
       "195         GM elshan1985  2780\n",
       "196  GM tornike_sanikidze  2780\n",
       "197        Hellblazer2007  2780\n",
       "198             Likonendy  2779\n",
       "199           FM Kaldas90  2778\n",
       "\n",
       "[200 rows x 2 columns]"
      ]
     },
     "execution_count": 167,
     "metadata": {},
     "output_type": "execute_result"
    }
   ],
   "source": [
    "# column 0 is the user's ranking, and column 3 is their recent rating change. we aren't interested in either, so let's delete them\n",
    "del players_df[0], players_df[3]\n",
    "\n",
    "players_df"
   ]
  },
  {
   "cell_type": "code",
   "execution_count": 168,
   "metadata": {},
   "outputs": [
    {
     "data": {
      "text/html": [
       "<div>\n",
       "<style scoped>\n",
       "    .dataframe tbody tr th:only-of-type {\n",
       "        vertical-align: middle;\n",
       "    }\n",
       "\n",
       "    .dataframe tbody tr th {\n",
       "        vertical-align: top;\n",
       "    }\n",
       "\n",
       "    .dataframe thead th {\n",
       "        text-align: right;\n",
       "    }\n",
       "</style>\n",
       "<table border=\"1\" class=\"dataframe\">\n",
       "  <thead>\n",
       "    <tr style=\"text-align: right;\">\n",
       "      <th></th>\n",
       "      <th>User</th>\n",
       "      <th>Rating</th>\n",
       "    </tr>\n",
       "  </thead>\n",
       "  <tbody>\n",
       "    <tr>\n",
       "      <th>0</th>\n",
       "      <td>GM nihalsarin2004</td>\n",
       "      <td>3101</td>\n",
       "    </tr>\n",
       "    <tr>\n",
       "      <th>1</th>\n",
       "      <td>GM C9C9C9C9C9</td>\n",
       "      <td>3068</td>\n",
       "    </tr>\n",
       "    <tr>\n",
       "      <th>2</th>\n",
       "      <td>GM Zhigalko_Sergei</td>\n",
       "      <td>3051</td>\n",
       "    </tr>\n",
       "    <tr>\n",
       "      <th>3</th>\n",
       "      <td>GM muisback</td>\n",
       "      <td>3018</td>\n",
       "    </tr>\n",
       "    <tr>\n",
       "      <th>4</th>\n",
       "      <td>GM Arka50</td>\n",
       "      <td>3016</td>\n",
       "    </tr>\n",
       "    <tr>\n",
       "      <th>...</th>\n",
       "      <td>...</td>\n",
       "      <td>...</td>\n",
       "    </tr>\n",
       "    <tr>\n",
       "      <th>195</th>\n",
       "      <td>GM elshan1985</td>\n",
       "      <td>2780</td>\n",
       "    </tr>\n",
       "    <tr>\n",
       "      <th>196</th>\n",
       "      <td>GM tornike_sanikidze</td>\n",
       "      <td>2780</td>\n",
       "    </tr>\n",
       "    <tr>\n",
       "      <th>197</th>\n",
       "      <td>Hellblazer2007</td>\n",
       "      <td>2780</td>\n",
       "    </tr>\n",
       "    <tr>\n",
       "      <th>198</th>\n",
       "      <td>Likonendy</td>\n",
       "      <td>2779</td>\n",
       "    </tr>\n",
       "    <tr>\n",
       "      <th>199</th>\n",
       "      <td>FM Kaldas90</td>\n",
       "      <td>2778</td>\n",
       "    </tr>\n",
       "  </tbody>\n",
       "</table>\n",
       "<p>200 rows × 2 columns</p>\n",
       "</div>"
      ],
      "text/plain": [
       "                     User  Rating\n",
       "0       GM nihalsarin2004    3101\n",
       "1           GM C9C9C9C9C9    3068\n",
       "2      GM Zhigalko_Sergei    3051\n",
       "3             GM muisback    3018\n",
       "4               GM Arka50    3016\n",
       "..                    ...     ...\n",
       "195         GM elshan1985    2780\n",
       "196  GM tornike_sanikidze    2780\n",
       "197        Hellblazer2007    2780\n",
       "198             Likonendy    2779\n",
       "199           FM Kaldas90    2778\n",
       "\n",
       "[200 rows x 2 columns]"
      ]
     },
     "execution_count": 168,
     "metadata": {},
     "output_type": "execute_result"
    }
   ],
   "source": [
    "# now let's rename the columns to more helpful labels\n",
    "players_df.rename(columns={1:'User', 2:'Rating'})"
   ]
  },
  {
   "cell_type": "code",
   "execution_count": 169,
   "metadata": {},
   "outputs": [],
   "source": [
    "players_df.rename(columns={1:'User', 2:'Rating'}, inplace=True)"
   ]
  },
  {
   "cell_type": "code",
   "execution_count": 170,
   "metadata": {},
   "outputs": [],
   "source": [
    "# make a short function to give us individual players' urls from username, for convenience\n",
    "def indiv_URL_formula(username):\n",
    "    return \"https://lichess.org/@/\" + username"
   ]
  },
  {
   "cell_type": "code",
   "execution_count": 171,
   "metadata": {},
   "outputs": [
    {
     "data": {
      "text/plain": [
       "'https://lichess.org/@/GM\\xa0nihalsarin2004'"
      ]
     },
     "execution_count": 171,
     "metadata": {},
     "output_type": "execute_result"
    }
   ],
   "source": [
    "# url of first user's account\n",
    "# \"https://lichess.org/@/\" + ' '.join(players_df['User'].iloc[0].split())\n",
    "indiv_URL_formula(players_df['User'].iloc[0])\n",
    "\n",
    "# equivalent to: \"https://lichess.org/@/\" + players_df['User'].iloc[0]"
   ]
  },
  {
   "cell_type": "code",
   "execution_count": 172,
   "metadata": {},
   "outputs": [],
   "source": [
    "# replace \"/xa0\"\n",
    "\n",
    "def replace_xa0(username):\n",
    "    '''\n",
    "    input = a player's username (string)\n",
    "    output = a player's username, with \"\\xa0\" replaced by \" \"\n",
    "    '''\n",
    "    return username.replace(\"\\xa0\", \" \")\n",
    "\n",
    "# apply this function to our dataframe\n",
    "## first, let's check to see that it returns the right output\n",
    "players_df['User'].apply(replace_xa0)\n",
    "\n",
    "## looks good (or at least not harmful), so let's replace the username\n",
    "players_df['User'] = players_df['User'].apply(replace_xa0)"
   ]
  },
  {
   "cell_type": "code",
   "execution_count": 173,
   "metadata": {},
   "outputs": [
    {
     "data": {
      "text/plain": [
       "'https://lichess.org/@/GM nihalsarin2004'"
      ]
     },
     "execution_count": 173,
     "metadata": {},
     "output_type": "execute_result"
    }
   ],
   "source": [
    "# retry printing url of first user's account\n",
    "indiv_URL_formula(players_df['User'].iloc[0])"
   ]
  },
  {
   "cell_type": "code",
   "execution_count": 174,
   "metadata": {},
   "outputs": [],
   "source": [
    "# we need to split the \"User\" column, otherwise we get urls like \"https://lichess.org/@/GM RebeccaHarris\" instead of \"https://lichess.org/@/RebeccaHarris\"\n",
    "\n",
    "def get_user(title_user_str):\n",
    "    \"\"\"\n",
    "    title_user_str looks like \"GM RebeccaHarris\" or \"Shprot86\"\n",
    "    \"\"\"\n",
    "#     print(title_user_str)\n",
    "    if len(title_user_str.split())==2:    #if the user is titled (has two words in their user field, rather than one)\n",
    "#         print(title_user_str.split()[1])\n",
    "        return title_user_str.split()[1]   #return their username\n",
    "    else:    # if the user is not titled (has one word in their user field)\n",
    "        return title_user_str    #return the input string, since it is already their username without a title\n",
    "\n",
    "\n",
    "def get_title(title_user_str):\n",
    "    \"\"\"\n",
    "    title_user_str looks like \"GM RebeccaHarris\" or \"Shprot86\"\n",
    "    \"\"\"\n",
    "    if len(title_user_str.split())==2:    #if the user is titled (has two words in their user field, rather than one)\n",
    "        return title_user_str.split()[0]   #return their title\n",
    "    else:    # if the user is not titled (has one word in their user field)\n",
    "        return  np.nan    #return a missing value\n",
    "\n",
    "    \n",
    "players_df['Username'] = players_df['User'].apply(get_user)\n",
    "players_df['Title'] = players_df['User'].apply(get_title)"
   ]
  },
  {
   "cell_type": "code",
   "execution_count": 175,
   "metadata": {
    "scrolled": true
   },
   "outputs": [
    {
     "data": {
      "text/html": [
       "<div>\n",
       "<style scoped>\n",
       "    .dataframe tbody tr th:only-of-type {\n",
       "        vertical-align: middle;\n",
       "    }\n",
       "\n",
       "    .dataframe tbody tr th {\n",
       "        vertical-align: top;\n",
       "    }\n",
       "\n",
       "    .dataframe thead th {\n",
       "        text-align: right;\n",
       "    }\n",
       "</style>\n",
       "<table border=\"1\" class=\"dataframe\">\n",
       "  <thead>\n",
       "    <tr style=\"text-align: right;\">\n",
       "      <th></th>\n",
       "      <th>User</th>\n",
       "      <th>Rating</th>\n",
       "      <th>Username</th>\n",
       "      <th>Title</th>\n",
       "    </tr>\n",
       "  </thead>\n",
       "  <tbody>\n",
       "    <tr>\n",
       "      <th>0</th>\n",
       "      <td>GM nihalsarin2004</td>\n",
       "      <td>3101</td>\n",
       "      <td>nihalsarin2004</td>\n",
       "      <td>GM</td>\n",
       "    </tr>\n",
       "    <tr>\n",
       "      <th>1</th>\n",
       "      <td>GM C9C9C9C9C9</td>\n",
       "      <td>3068</td>\n",
       "      <td>C9C9C9C9C9</td>\n",
       "      <td>GM</td>\n",
       "    </tr>\n",
       "    <tr>\n",
       "      <th>2</th>\n",
       "      <td>GM Zhigalko_Sergei</td>\n",
       "      <td>3051</td>\n",
       "      <td>Zhigalko_Sergei</td>\n",
       "      <td>GM</td>\n",
       "    </tr>\n",
       "    <tr>\n",
       "      <th>3</th>\n",
       "      <td>GM muisback</td>\n",
       "      <td>3018</td>\n",
       "      <td>muisback</td>\n",
       "      <td>GM</td>\n",
       "    </tr>\n",
       "    <tr>\n",
       "      <th>4</th>\n",
       "      <td>GM Arka50</td>\n",
       "      <td>3016</td>\n",
       "      <td>Arka50</td>\n",
       "      <td>GM</td>\n",
       "    </tr>\n",
       "    <tr>\n",
       "      <th>...</th>\n",
       "      <td>...</td>\n",
       "      <td>...</td>\n",
       "      <td>...</td>\n",
       "      <td>...</td>\n",
       "    </tr>\n",
       "    <tr>\n",
       "      <th>195</th>\n",
       "      <td>GM elshan1985</td>\n",
       "      <td>2780</td>\n",
       "      <td>elshan1985</td>\n",
       "      <td>GM</td>\n",
       "    </tr>\n",
       "    <tr>\n",
       "      <th>196</th>\n",
       "      <td>GM tornike_sanikidze</td>\n",
       "      <td>2780</td>\n",
       "      <td>tornike_sanikidze</td>\n",
       "      <td>GM</td>\n",
       "    </tr>\n",
       "    <tr>\n",
       "      <th>197</th>\n",
       "      <td>Hellblazer2007</td>\n",
       "      <td>2780</td>\n",
       "      <td>Hellblazer2007</td>\n",
       "      <td>NaN</td>\n",
       "    </tr>\n",
       "    <tr>\n",
       "      <th>198</th>\n",
       "      <td>Likonendy</td>\n",
       "      <td>2779</td>\n",
       "      <td>Likonendy</td>\n",
       "      <td>NaN</td>\n",
       "    </tr>\n",
       "    <tr>\n",
       "      <th>199</th>\n",
       "      <td>FM Kaldas90</td>\n",
       "      <td>2778</td>\n",
       "      <td>Kaldas90</td>\n",
       "      <td>FM</td>\n",
       "    </tr>\n",
       "  </tbody>\n",
       "</table>\n",
       "<p>200 rows × 4 columns</p>\n",
       "</div>"
      ],
      "text/plain": [
       "                     User  Rating           Username Title\n",
       "0       GM nihalsarin2004    3101     nihalsarin2004    GM\n",
       "1           GM C9C9C9C9C9    3068         C9C9C9C9C9    GM\n",
       "2      GM Zhigalko_Sergei    3051    Zhigalko_Sergei    GM\n",
       "3             GM muisback    3018           muisback    GM\n",
       "4               GM Arka50    3016             Arka50    GM\n",
       "..                    ...     ...                ...   ...\n",
       "195         GM elshan1985    2780         elshan1985    GM\n",
       "196  GM tornike_sanikidze    2780  tornike_sanikidze    GM\n",
       "197        Hellblazer2007    2780     Hellblazer2007   NaN\n",
       "198             Likonendy    2779          Likonendy   NaN\n",
       "199           FM Kaldas90    2778           Kaldas90    FM\n",
       "\n",
       "[200 rows x 4 columns]"
      ]
     },
     "execution_count": 175,
     "metadata": {},
     "output_type": "execute_result"
    }
   ],
   "source": [
    "players_df"
   ]
  },
  {
   "cell_type": "code",
   "execution_count": 176,
   "metadata": {},
   "outputs": [],
   "source": [
    "players_df['URL'] = players_df['Username'].apply(indiv_URL_formula)"
   ]
  },
  {
   "cell_type": "code",
   "execution_count": 177,
   "metadata": {},
   "outputs": [
    {
     "data": {
      "text/html": [
       "<div>\n",
       "<style scoped>\n",
       "    .dataframe tbody tr th:only-of-type {\n",
       "        vertical-align: middle;\n",
       "    }\n",
       "\n",
       "    .dataframe tbody tr th {\n",
       "        vertical-align: top;\n",
       "    }\n",
       "\n",
       "    .dataframe thead th {\n",
       "        text-align: right;\n",
       "    }\n",
       "</style>\n",
       "<table border=\"1\" class=\"dataframe\">\n",
       "  <thead>\n",
       "    <tr style=\"text-align: right;\">\n",
       "      <th></th>\n",
       "      <th>User</th>\n",
       "      <th>Rating</th>\n",
       "      <th>Username</th>\n",
       "      <th>Title</th>\n",
       "      <th>URL</th>\n",
       "    </tr>\n",
       "  </thead>\n",
       "  <tbody>\n",
       "    <tr>\n",
       "      <th>0</th>\n",
       "      <td>GM nihalsarin2004</td>\n",
       "      <td>3101</td>\n",
       "      <td>nihalsarin2004</td>\n",
       "      <td>GM</td>\n",
       "      <td>https://lichess.org/@/nihalsarin2004</td>\n",
       "    </tr>\n",
       "    <tr>\n",
       "      <th>1</th>\n",
       "      <td>GM C9C9C9C9C9</td>\n",
       "      <td>3068</td>\n",
       "      <td>C9C9C9C9C9</td>\n",
       "      <td>GM</td>\n",
       "      <td>https://lichess.org/@/C9C9C9C9C9</td>\n",
       "    </tr>\n",
       "    <tr>\n",
       "      <th>2</th>\n",
       "      <td>GM Zhigalko_Sergei</td>\n",
       "      <td>3051</td>\n",
       "      <td>Zhigalko_Sergei</td>\n",
       "      <td>GM</td>\n",
       "      <td>https://lichess.org/@/Zhigalko_Sergei</td>\n",
       "    </tr>\n",
       "    <tr>\n",
       "      <th>3</th>\n",
       "      <td>GM muisback</td>\n",
       "      <td>3018</td>\n",
       "      <td>muisback</td>\n",
       "      <td>GM</td>\n",
       "      <td>https://lichess.org/@/muisback</td>\n",
       "    </tr>\n",
       "    <tr>\n",
       "      <th>4</th>\n",
       "      <td>GM Arka50</td>\n",
       "      <td>3016</td>\n",
       "      <td>Arka50</td>\n",
       "      <td>GM</td>\n",
       "      <td>https://lichess.org/@/Arka50</td>\n",
       "    </tr>\n",
       "    <tr>\n",
       "      <th>...</th>\n",
       "      <td>...</td>\n",
       "      <td>...</td>\n",
       "      <td>...</td>\n",
       "      <td>...</td>\n",
       "      <td>...</td>\n",
       "    </tr>\n",
       "    <tr>\n",
       "      <th>195</th>\n",
       "      <td>GM elshan1985</td>\n",
       "      <td>2780</td>\n",
       "      <td>elshan1985</td>\n",
       "      <td>GM</td>\n",
       "      <td>https://lichess.org/@/elshan1985</td>\n",
       "    </tr>\n",
       "    <tr>\n",
       "      <th>196</th>\n",
       "      <td>GM tornike_sanikidze</td>\n",
       "      <td>2780</td>\n",
       "      <td>tornike_sanikidze</td>\n",
       "      <td>GM</td>\n",
       "      <td>https://lichess.org/@/tornike_sanikidze</td>\n",
       "    </tr>\n",
       "    <tr>\n",
       "      <th>197</th>\n",
       "      <td>Hellblazer2007</td>\n",
       "      <td>2780</td>\n",
       "      <td>Hellblazer2007</td>\n",
       "      <td>NaN</td>\n",
       "      <td>https://lichess.org/@/Hellblazer2007</td>\n",
       "    </tr>\n",
       "    <tr>\n",
       "      <th>198</th>\n",
       "      <td>Likonendy</td>\n",
       "      <td>2779</td>\n",
       "      <td>Likonendy</td>\n",
       "      <td>NaN</td>\n",
       "      <td>https://lichess.org/@/Likonendy</td>\n",
       "    </tr>\n",
       "    <tr>\n",
       "      <th>199</th>\n",
       "      <td>FM Kaldas90</td>\n",
       "      <td>2778</td>\n",
       "      <td>Kaldas90</td>\n",
       "      <td>FM</td>\n",
       "      <td>https://lichess.org/@/Kaldas90</td>\n",
       "    </tr>\n",
       "  </tbody>\n",
       "</table>\n",
       "<p>200 rows × 5 columns</p>\n",
       "</div>"
      ],
      "text/plain": [
       "                     User  Rating           Username Title  \\\n",
       "0       GM nihalsarin2004    3101     nihalsarin2004    GM   \n",
       "1           GM C9C9C9C9C9    3068         C9C9C9C9C9    GM   \n",
       "2      GM Zhigalko_Sergei    3051    Zhigalko_Sergei    GM   \n",
       "3             GM muisback    3018           muisback    GM   \n",
       "4               GM Arka50    3016             Arka50    GM   \n",
       "..                    ...     ...                ...   ...   \n",
       "195         GM elshan1985    2780         elshan1985    GM   \n",
       "196  GM tornike_sanikidze    2780  tornike_sanikidze    GM   \n",
       "197        Hellblazer2007    2780     Hellblazer2007   NaN   \n",
       "198             Likonendy    2779          Likonendy   NaN   \n",
       "199           FM Kaldas90    2778           Kaldas90    FM   \n",
       "\n",
       "                                         URL  \n",
       "0       https://lichess.org/@/nihalsarin2004  \n",
       "1           https://lichess.org/@/C9C9C9C9C9  \n",
       "2      https://lichess.org/@/Zhigalko_Sergei  \n",
       "3             https://lichess.org/@/muisback  \n",
       "4               https://lichess.org/@/Arka50  \n",
       "..                                       ...  \n",
       "195         https://lichess.org/@/elshan1985  \n",
       "196  https://lichess.org/@/tornike_sanikidze  \n",
       "197     https://lichess.org/@/Hellblazer2007  \n",
       "198          https://lichess.org/@/Likonendy  \n",
       "199           https://lichess.org/@/Kaldas90  \n",
       "\n",
       "[200 rows x 5 columns]"
      ]
     },
     "execution_count": 177,
     "metadata": {},
     "output_type": "execute_result"
    }
   ],
   "source": [
    "players_df"
   ]
  },
  {
   "cell_type": "code",
   "execution_count": 178,
   "metadata": {},
   "outputs": [
    {
     "data": {
      "text/plain": [
       "0         https://lichess.org/@/nihalsarin2004\n",
       "1             https://lichess.org/@/C9C9C9C9C9\n",
       "2        https://lichess.org/@/Zhigalko_Sergei\n",
       "3               https://lichess.org/@/muisback\n",
       "4                 https://lichess.org/@/Arka50\n",
       "                        ...                   \n",
       "195           https://lichess.org/@/elshan1985\n",
       "196    https://lichess.org/@/tornike_sanikidze\n",
       "197       https://lichess.org/@/Hellblazer2007\n",
       "198            https://lichess.org/@/Likonendy\n",
       "199             https://lichess.org/@/Kaldas90\n",
       "Name: URL, Length: 200, dtype: object"
      ]
     },
     "execution_count": 178,
     "metadata": {},
     "output_type": "execute_result"
    }
   ],
   "source": [
    "players_df['URL']"
   ]
  },
  {
   "cell_type": "markdown",
   "metadata": {},
   "source": [
    "#### Write functions to get statistics from individual pages"
   ]
  },
  {
   "cell_type": "code",
   "execution_count": 179,
   "metadata": {},
   "outputs": [],
   "source": [
    "# first, let's scrape the first user's page, so we have an example to work with\n",
    "first_player_url = \"https://lichess.org/@/\" + players_df['Username'].iloc[0]\n",
    "\n",
    "first_player_response = requests.get(first_player_url)\n",
    "    \n",
    "first_player_soup = BeautifulSoup(first_player_response.text, 'html.parser')"
   ]
  },
  {
   "cell_type": "code",
   "execution_count": 180,
   "metadata": {},
   "outputs": [],
   "source": [
    "# GET NAME\n",
    "\n",
    "# select elements\n",
    "first_player_soup.select('.name')\n",
    "\n",
    "# get text from selected elements\n",
    "[x.text for x in first_player_soup.select('.name')]\n",
    "\n",
    "# get name from list of names (even though it's just a list of length 1)\n",
    "[x.text for x in first_player_soup.select('.name')][0]\n",
    "\n",
    "\n",
    "\n",
    "# final fnc\n",
    "def get_name(player_soup):\n",
    "    try:\n",
    "        return [x.text for x in player_soup.select(\".name\")][0]\n",
    "    except:\n",
    "        return np.nan"
   ]
  },
  {
   "cell_type": "code",
   "execution_count": 181,
   "metadata": {},
   "outputs": [
    {
     "name": "stdout",
     "output_type": "stream",
     "text": [
      "34901\n"
     ]
    }
   ],
   "source": [
    "# select elements\n",
    "first_player_soup.select('.user-show__social .nm-item:nth-child(1)')\n",
    "\n",
    "# get text from selected elements\n",
    "[x.text for x in first_player_soup.select('.user-show__social .nm-item:nth-child(1)')]\n",
    "\n",
    "num_followers = [x.text for x in first_player_soup.select('.user-show__social .nm-item:nth-child(1)')][0]\n",
    "num_followers\n",
    "\n",
    "# split followers string at the letter \"f\" to isolate the numbers\n",
    "num_followers = num_followers.split('f')[0]\n",
    "\n",
    "# remove comma from number\n",
    "num_followers = num_followers.replace(',','')\n",
    "\n",
    "num_followers = int(num_followers)\n",
    "\n",
    "print(num_followers)\n",
    "\n",
    "\n",
    "\n",
    "# final fnc\n",
    "def get_num_followers(player_soup):\n",
    "    num_followers = player_soup.select('.user-show__social .nm-item:nth-child(1)')\n",
    "                                        \n",
    "    num_followers = [x.text for x in num_followers]\n",
    "    \n",
    "    num_followers = num_followers[0].split('f')[0]\n",
    "    \n",
    "    num_followers = num_followers.replace(',', '')\n",
    "    \n",
    "    num_followers = int(num_followers)\n",
    "    \n",
    "    return num_followers"
   ]
  },
  {
   "cell_type": "code",
   "execution_count": 182,
   "metadata": {},
   "outputs": [],
   "source": [
    "# GET NUMBER OF GAMES\n",
    "\n",
    "num_games = first_player_soup.select('.to-games')\n",
    "\n",
    "num_games = [x.text for x in num_games]\n",
    "\n",
    "num_games = num_games[0]\n",
    "\n",
    "num_games = num_games.split()\n",
    "\n",
    "num_games = num_games[0]\n",
    "\n",
    "num_games = num_games.replace(',', '')\n",
    "\n",
    "num_games = int(num_games)\n",
    "\n",
    "num_games\n",
    "\n",
    "\n",
    "# final fnc\n",
    "def get_num_games(player_soup):\n",
    "    num_games = player_soup.select('.to-games')\n",
    "\n",
    "    num_games = [x.text for x in num_games]\n",
    "\n",
    "    num_games = num_games[0]\n",
    "\n",
    "    num_games = num_games.split()\n",
    "\n",
    "    num_games = num_games[0]\n",
    "\n",
    "    num_games = num_games.replace(',', '')\n",
    "\n",
    "    num_games = int(num_games)\n",
    "\n",
    "    return num_games"
   ]
  },
  {
   "cell_type": "code",
   "execution_count": 220,
   "metadata": {},
   "outputs": [],
   "source": [
    "# FINAL SCRAPING FUNCTION\n",
    "import time\n",
    "\n",
    "\n",
    "def scrape_all_user_stats(df):\n",
    "    '''\n",
    "    input = dataframe containing a column called \"URL\", which holds user acct. URLs\n",
    "    output = input dataframe + scraped columns\n",
    "    '''\n",
    "    scraped_info_dict = {'Name': [], \n",
    "                         'Num. Games': [],\n",
    "                        'Num. Followers': []}\n",
    "    \n",
    "    for player_url in df['URL']:\n",
    "        print(player_url)\n",
    "        \n",
    "        time.sleep(.1)\n",
    "\n",
    "        this_player_response = requests.get(player_url)\n",
    "\n",
    "        this_player_soup = BeautifulSoup(this_player_response.text, 'html.parser')\n",
    "\n",
    "        scraped_info_dict['Name'].append(get_name(this_player_soup))\n",
    "\n",
    "        scraped_info_dict['Num. Games'].append(get_num_games(this_player_soup))\n",
    "\n",
    "        scraped_info_dict['Num. Followers'].append(get_num_followers(this_player_soup))\n",
    "    \n",
    "    scraped_info_df = pd.DataFrame(scraped_info_dict)\n",
    "    return pd.concat([df, scraped_info_df], axis=1)\n",
    "#     return scraped_info_df\n",
    "#     df = pd.concat([df, scraped_info_df], axis=1)\n",
    "    \n",
    "#     df['Name'] = scraped_info_dict['Name']\n",
    "#     df['Num. Games'] = scraped_info_dict['Num. Games']\n",
    "#     df['Num. Followers'] = scraped_info_dict['Num. Followers']"
   ]
  },
  {
   "cell_type": "code",
   "execution_count": 184,
   "metadata": {},
   "outputs": [
    {
     "data": {
      "text/plain": [
       "34901"
      ]
     },
     "execution_count": 184,
     "metadata": {},
     "output_type": "execute_result"
    }
   ],
   "source": [
    "get_num_followers(first_player_soup)"
   ]
  },
  {
   "cell_type": "code",
   "execution_count": 223,
   "metadata": {},
   "outputs": [
    {
     "name": "stdout",
     "output_type": "stream",
     "text": [
      "https://lichess.org/@/nihalsarin2004\n",
      "https://lichess.org/@/C9C9C9C9C9\n",
      "https://lichess.org/@/Zhigalko_Sergei\n",
      "https://lichess.org/@/muisback\n",
      "https://lichess.org/@/Arka50\n",
      "https://lichess.org/@/Heisenberg01\n",
      "https://lichess.org/@/TaylorSwiftFans\n",
      "https://lichess.org/@/MatthewG-p4p\n",
      "https://lichess.org/@/FlamingFM\n",
      "https://lichess.org/@/DrHotPotato\n",
      "https://lichess.org/@/msb2\n",
      "https://lichess.org/@/Kallepook\n",
      "https://lichess.org/@/MasterAssasin123\n",
      "https://lichess.org/@/drop_stone\n",
      "https://lichess.org/@/Mitrabha\n",
      "https://lichess.org/@/azazello7\n",
      "https://lichess.org/@/defenceboy1\n",
      "https://lichess.org/@/Kelevra317\n",
      "https://lichess.org/@/Inventing_Invention\n",
      "https://lichess.org/@/Eyesless18\n"
     ]
    }
   ],
   "source": [
    "test = scrape_all_user_stats(players_df.head(20))"
   ]
  },
  {
   "cell_type": "code",
   "execution_count": 225,
   "metadata": {},
   "outputs": [
    {
     "data": {
      "text/plain": [
       "<AxesSubplot:xlabel='Rating', ylabel='Num. Followers'>"
      ]
     },
     "execution_count": 225,
     "metadata": {},
     "output_type": "execute_result"
    },
    {
     "data": {
      "image/png": "[encoded data removed]",
      "text/plain": [
       "<Figure size 432x288 with 1 Axes>"
      ]
     },
     "metadata": {
      "needs_background": "light"
     },
     "output_type": "display_data"
    }
   ],
   "source": [
    "test.plot.scatter(x='Rating', y='Num. Followers')"
   ]
  },
  {
   "cell_type": "code",
   "execution_count": 229,
   "metadata": {},
   "outputs": [
    {
     "data": {
      "text/plain": [
       "<AxesSubplot:>"
      ]
     },
     "execution_count": 229,
     "metadata": {},
     "output_type": "execute_result"
    },
    {
     "data": {
      "image/png": "[encoded data removed]",
      "text/plain": [
       "<Figure size 432x288 with 1 Axes>"
      ]
     },
     "metadata": {
      "needs_background": "light"
     },
     "output_type": "display_data"
    }
   ],
   "source": [
    "test['Rating'].hist(bins=10)"
   ]
  },
  {
   "cell_type": "code",
   "execution_count": 230,
   "metadata": {},
   "outputs": [],
   "source": [
    "test.to_csv(\"Lichess.org Scrape.csv\")"
   ]
  },
  {
   "cell_type": "code",
   "execution_count": null,
   "metadata": {},
   "outputs": [],
   "source": []
  },
  {
   "cell_type": "code",
   "execution_count": null,
   "metadata": {},
   "outputs": [],
   "source": []
  },
  {
   "cell_type": "code",
   "execution_count": null,
   "metadata": {},
   "outputs": [],
   "source": []
  },
  {
   "cell_type": "code",
   "execution_count": null,
   "metadata": {},
   "outputs": [],
   "source": []
  },
  {
   "cell_type": "code",
   "execution_count": null,
   "metadata": {},
   "outputs": [],
   "source": []
  },
  {
   "cell_type": "code",
   "execution_count": null,
   "metadata": {},
   "outputs": [],
   "source": []
  },
  {
   "cell_type": "code",
   "execution_count": null,
   "metadata": {},
   "outputs": [],
   "source": []
  },
  {
   "cell_type": "code",
   "execution_count": null,
   "metadata": {},
   "outputs": [],
   "source": []
  },
  {
   "cell_type": "code",
   "execution_count": null,
   "metadata": {},
   "outputs": [],
   "source": []
  },
  {
   "cell_type": "code",
   "execution_count": null,
   "metadata": {},
   "outputs": [],
   "source": []
  },
  {
   "cell_type": "code",
   "execution_count": null,
   "metadata": {},
   "outputs": [],
   "source": []
  },
  {
   "cell_type": "code",
   "execution_count": null,
   "metadata": {},
   "outputs": [],
   "source": []
  },
  {
   "cell_type": "code",
   "execution_count": null,
   "metadata": {},
   "outputs": [],
   "source": []
  },
  {
   "cell_type": "code",
   "execution_count": 78,
   "metadata": {},
   "outputs": [
    {
     "name": "stdout",
     "output_type": "stream",
     "text": [
      "nihalsarin2004\n",
      "https://lichess.org/@/nihalsarin2004\n"
     ]
    },
    {
     "ename": "NameError",
     "evalue": "name 'get_join_date' is not defined",
     "output_type": "error",
     "traceback": [
      "\u001b[1;31m---------------------------------------------------------------------------\u001b[0m",
      "\u001b[1;31mNameError\u001b[0m                                 Traceback (most recent call last)",
      "\u001b[1;32m<ipython-input-78-c638d4092b1d>\u001b[0m in \u001b[0;36m<module>\u001b[1;34m\u001b[0m\n\u001b[0;32m     21\u001b[0m \u001b[1;32mfor\u001b[0m \u001b[0muser_ID\u001b[0m \u001b[1;32min\u001b[0m \u001b[1;33m[\u001b[0m\u001b[0mplayers_df\u001b[0m\u001b[1;33m[\u001b[0m\u001b[1;34m'Username'\u001b[0m\u001b[1;33m]\u001b[0m\u001b[1;33m.\u001b[0m\u001b[0miloc\u001b[0m\u001b[1;33m[\u001b[0m\u001b[1;36m0\u001b[0m\u001b[1;33m]\u001b[0m\u001b[1;33m]\u001b[0m\u001b[1;33m:\u001b[0m\u001b[1;33m\u001b[0m\u001b[1;33m\u001b[0m\u001b[0m\n\u001b[0;32m     22\u001b[0m \u001b[1;33m\u001b[0m\u001b[0m\n\u001b[1;32m---> 23\u001b[1;33m     \u001b[0mget_user_info\u001b[0m\u001b[1;33m(\u001b[0m\u001b[0muser_ID\u001b[0m\u001b[1;33m)\u001b[0m\u001b[1;33m\u001b[0m\u001b[1;33m\u001b[0m\u001b[0m\n\u001b[0m\u001b[0;32m     24\u001b[0m \u001b[1;33m\u001b[0m\u001b[0m\n\u001b[0;32m     25\u001b[0m     \u001b[0mtime\u001b[0m\u001b[1;33m.\u001b[0m\u001b[0msleep\u001b[0m\u001b[1;33m(\u001b[0m\u001b[1;36m1\u001b[0m\u001b[1;33m)\u001b[0m\u001b[1;33m\u001b[0m\u001b[1;33m\u001b[0m\u001b[0m\n",
      "\u001b[1;32m<ipython-input-78-c638d4092b1d>\u001b[0m in \u001b[0;36mget_user_info\u001b[1;34m(lichess_user_id)\u001b[0m\n\u001b[0;32m     12\u001b[0m     \u001b[0mplayer_soup\u001b[0m \u001b[1;33m=\u001b[0m \u001b[0mBeautifulSoup\u001b[0m\u001b[1;33m(\u001b[0m\u001b[0mplayer_response\u001b[0m\u001b[1;33m.\u001b[0m\u001b[0mtext\u001b[0m\u001b[1;33m,\u001b[0m \u001b[1;34m'html.parser'\u001b[0m\u001b[1;33m)\u001b[0m\u001b[1;33m\u001b[0m\u001b[1;33m\u001b[0m\u001b[0m\n\u001b[0;32m     13\u001b[0m \u001b[1;33m\u001b[0m\u001b[0m\n\u001b[1;32m---> 14\u001b[1;33m     \u001b[0mjoin_date\u001b[0m \u001b[1;33m=\u001b[0m \u001b[0mget_join_date\u001b[0m\u001b[1;33m(\u001b[0m\u001b[0mplayer_soup\u001b[0m\u001b[1;33m=\u001b[0m\u001b[0mplayer_soup\u001b[0m\u001b[1;33m)\u001b[0m\u001b[1;33m\u001b[0m\u001b[1;33m\u001b[0m\u001b[0m\n\u001b[0m\u001b[0;32m     15\u001b[0m \u001b[1;33m\u001b[0m\u001b[0m\n\u001b[0;32m     16\u001b[0m     \u001b[0mtime_spent_online\u001b[0m \u001b[1;33m=\u001b[0m \u001b[0mget_time_spent_online\u001b[0m\u001b[1;33m(\u001b[0m\u001b[0mplayer_soup\u001b[0m\u001b[1;33m=\u001b[0m\u001b[0mplayer_soup\u001b[0m\u001b[1;33m)\u001b[0m\u001b[1;33m\u001b[0m\u001b[1;33m\u001b[0m\u001b[0m\n",
      "\u001b[1;31mNameError\u001b[0m: name 'get_join_date' is not defined"
     ]
    }
   ],
   "source": [
    "import time\n",
    "\n",
    "# define function\n",
    "def scrape_user_stats(lichess_user_id):\n",
    "    print(user_ID)\n",
    "    \n",
    "    player_url = \"https://lichess.org/@/\" + user_ID\n",
    "    print(player_url)\n",
    "    \n",
    "    player_response = requests.get(player_url)\n",
    "    \n",
    "    player_soup = BeautifulSoup(player_response.text, 'html.parser')\n",
    "    \n",
    "    join_date = get_join_date(player_soup=player_soup)\n",
    "    \n",
    "    time_spent_online = get_time_spent_online(player_soup=player_soup)\n",
    "    \n",
    "    followers = get_num_followers(player_soup=player_soup)\n",
    "\n",
    "# apply function\n",
    "for user_ID in [players_df['Username'].iloc[0]]:\n",
    "  \n",
    "    scrape_user_stats(user_ID)\n",
    "\n",
    "    time.sleep(1) "
   ]
  },
  {
   "cell_type": "code",
   "execution_count": 98,
   "metadata": {},
   "outputs": [],
   "source": [
    "# let's get their join date\n",
    "# member_since = player_soup.select('.thin:nth-child(1)')\n",
    "\n",
    "# let's see its format\n",
    "# print(member_since)\n",
    "\n",
    "# we need to get the text from here and clean it\n",
    "# member_since.text\n",
    "\n",
    "# we forgot that member_since is a list! (even though it just has one element, it's' still a list).\n",
    "# let's get the text from its only element:\n",
    "# print([x.text for x in member_since])\n",
    "\n",
    "# great! we just need to clean this to get useful information out - we're almost there\n",
    "def get_membership_date(string):\n",
    "    split_str = string.split('since')[1]\n",
    "    return split_str\n",
    "\n",
    "#test our function:\n",
    "# print(get_membership_date([x.text for x in member_since][0]))\n",
    "\n",
    "# ok the function looks good, let's put it into our "
   ]
  },
  {
   "cell_type": "code",
   "execution_count": null,
   "metadata": {},
   "outputs": [],
   "source": [
    "def get_join_date(player_soup):\n",
    "    member_since = player_soup.select('.thin:nth-child(1)')\n",
    "    \n",
    "    return get_membership_date([x.text for x in member_since][0])"
   ]
  },
  {
   "cell_type": "markdown",
   "metadata": {},
   "source": [
    "### Get Time Spent Online"
   ]
  },
  {
   "cell_type": "code",
   "execution_count": 73,
   "metadata": {},
   "outputs": [],
   "source": [
    "def get_time_spent_online(player_soup):\n",
    "\n",
    "    time_spent = player_soup.select('p:nth-child(4)')\n",
    "    \n",
    "    time_spent = [x.text for x in time_spent]\n",
    "    \n",
    "    return time_spent"
   ]
  },
  {
   "cell_type": "code",
   "execution_count": 74,
   "metadata": {},
   "outputs": [
    {
     "ename": "NameError",
     "evalue": "name 'player_soup' is not defined",
     "output_type": "error",
     "traceback": [
      "\u001b[1;31m---------------------------------------------------------------------------\u001b[0m",
      "\u001b[1;31mNameError\u001b[0m                                 Traceback (most recent call last)",
      "\u001b[1;32m<ipython-input-74-8f3dc158ca91>\u001b[0m in \u001b[0;36m<module>\u001b[1;34m\u001b[0m\n\u001b[1;32m----> 1\u001b[1;33m \u001b[0mget_time_spent_online\u001b[0m\u001b[1;33m(\u001b[0m\u001b[0mplayer_soup\u001b[0m\u001b[1;33m)\u001b[0m\u001b[1;33m\u001b[0m\u001b[1;33m\u001b[0m\u001b[0m\n\u001b[0m",
      "\u001b[1;31mNameError\u001b[0m: name 'player_soup' is not defined"
     ]
    }
   ],
   "source": [
    "get_time_spent_online(player_soup)"
   ]
  },
  {
   "cell_type": "markdown",
   "metadata": {},
   "source": [
    "### Get # followers "
   ]
  },
  {
   "cell_type": "code",
   "execution_count": 75,
   "metadata": {},
   "outputs": [],
   "source": [
    "def get_num_followers(player_soup):\n",
    "    num_followers = player_soup.select('.user-show__social .nm-item:nth-child(1)')\n",
    "    \n",
    "    num_followers = [x.text for x in num_followers]\n",
    "    \n",
    "    num_followers = num_followers[0].split('f')[0]\n",
    "    \n",
    "    num_followers = num_followers.replace(',','')\n",
    "    \n",
    "    num_followers = int(num_followers)\n",
    "    \n",
    "    return num_followers"
   ]
  },
  {
   "cell_type": "code",
   "execution_count": 76,
   "metadata": {},
   "outputs": [
    {
     "ename": "NameError",
     "evalue": "name 'player_soup' is not defined",
     "output_type": "error",
     "traceback": [
      "\u001b[1;31m---------------------------------------------------------------------------\u001b[0m",
      "\u001b[1;31mNameError\u001b[0m                                 Traceback (most recent call last)",
      "\u001b[1;32m<ipython-input-76-9c0f1294beec>\u001b[0m in \u001b[0;36m<module>\u001b[1;34m\u001b[0m\n\u001b[1;32m----> 1\u001b[1;33m \u001b[0mget_num_followers\u001b[0m\u001b[1;33m(\u001b[0m\u001b[0mplayer_soup\u001b[0m\u001b[1;33m)\u001b[0m\u001b[1;33m\u001b[0m\u001b[1;33m\u001b[0m\u001b[0m\n\u001b[0m",
      "\u001b[1;31mNameError\u001b[0m: name 'player_soup' is not defined"
     ]
    }
   ],
   "source": [
    "get_num_followers(player_soup)"
   ]
  },
  {
   "cell_type": "markdown",
   "metadata": {},
   "source": [
    "### Get bio - NOT DONE!!!!!!!!!!!!!!!!!!!!!!!!!!!!!!!!!"
   ]
  },
  {
   "cell_type": "code",
   "execution_count": null,
   "metadata": {},
   "outputs": [],
   "source": [
    "def get_bio(player_soup):\n",
    "    \n",
    "    bio = player_soup.select('.bio')\n",
    "    \n",
    "    print(bio)"
   ]
  },
  {
   "cell_type": "code",
   "execution_count": null,
   "metadata": {},
   "outputs": [],
   "source": [
    "get_bio(player_soup)"
   ]
  },
  {
   "cell_type": "code",
   "execution_count": null,
   "metadata": {},
   "outputs": [],
   "source": [
    "mik_url = \"https://lichess.org/@/\" + 'mgaster'\n",
    "print(mik_url)\n",
    "\n",
    "mik_response = requests.get(mik_url)\n",
    "\n",
    "mik_soup = BeautifulSoup(mik_response.text, 'html.parser')"
   ]
  },
  {
   "cell_type": "code",
   "execution_count": null,
   "metadata": {},
   "outputs": [],
   "source": [
    "player_soup.select('.patron')"
   ]
  },
  {
   "cell_type": "code",
   "execution_count": null,
   "metadata": {},
   "outputs": [],
   "source": [
    "mik_soup.select('.patron')"
   ]
  },
  {
   "cell_type": "markdown",
   "metadata": {},
   "source": [
    "# MAYBE TRY XPATH HERE?"
   ]
  }
 ],
 "metadata": {
  "kernelspec": {
   "display_name": "Python 3",
   "language": "python",
   "name": "python3"
  },
  "language_info": {
   "codemirror_mode": {
    "name": "ipython",
    "version": 3
   },
   "file_extension": ".py",
   "mimetype": "text/x-python",
   "name": "python",
   "nbconvert_exporter": "python",
   "pygments_lexer": "ipython3",
   "version": "3.8.5"
  },
  "latex_envs": {
   "LaTeX_envs_menu_present": true,
   "autoclose": true,
   "autocomplete": true,
   "bibliofile": "biblio.bib",
   "cite_by": "apalike",
   "current_citInitial": 1,
   "eqLabelWithNumbers": true,
   "eqNumInitial": 1,
   "hotkeys": {
    "equation": "Ctrl-E",
    "itemize": "Ctrl-I"
   },
   "labels_anchors": false,
   "latex_user_defs": false,
   "report_style_numbering": false,
   "user_envs_cfg": false
  },
  "toc": {
   "base_numbering": 1,
   "nav_menu": {},
   "number_sections": true,
   "sideBar": true,
   "skip_h1_title": false,
   "title_cell": "Table of Contents",
   "title_sidebar": "Contents",
   "toc_cell": false,
   "toc_position": {},
   "toc_section_display": true,
   "toc_window_display": false
  }
 },
 "nbformat": 4,
 "nbformat_minor": 4
}
